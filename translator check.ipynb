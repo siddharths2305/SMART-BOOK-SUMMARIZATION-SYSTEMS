{
 "cells": [
  {
   "cell_type": "code",
   "execution_count": 1,
   "id": "4f70e34e-ac1e-493e-b5b7-234b1a1f3014",
   "metadata": {},
   "outputs": [
    {
     "name": "stdout",
     "output_type": "stream",
     "text": [
      "Requirement already satisfied: deep-translator in c:\\users\\siddh\\anaconda3\\lib\\site-packages (1.11.4)Note: you may need to restart the kernel to use updated packages.\n",
      "\n",
      "Requirement already satisfied: beautifulsoup4<5.0.0,>=4.9.1 in c:\\users\\siddh\\appdata\\roaming\\python\\python312\\site-packages (from deep-translator) (4.12.3)\n",
      "Requirement already satisfied: requests<3.0.0,>=2.23.0 in c:\\users\\siddh\\appdata\\roaming\\python\\python312\\site-packages (from deep-translator) (2.31.0)\n",
      "Requirement already satisfied: soupsieve>1.2 in c:\\users\\siddh\\appdata\\roaming\\python\\python312\\site-packages (from beautifulsoup4<5.0.0,>=4.9.1->deep-translator) (2.5)\n",
      "Requirement already satisfied: charset-normalizer<4,>=2 in c:\\users\\siddh\\appdata\\roaming\\python\\python312\\site-packages (from requests<3.0.0,>=2.23.0->deep-translator) (3.3.2)\n",
      "Requirement already satisfied: idna<4,>=2.5 in c:\\users\\siddh\\anaconda3\\lib\\site-packages (from requests<3.0.0,>=2.23.0->deep-translator) (2.10)\n",
      "Requirement already satisfied: urllib3<3,>=1.21.1 in c:\\users\\siddh\\appdata\\roaming\\python\\python312\\site-packages (from requests<3.0.0,>=2.23.0->deep-translator) (2.1.0)\n",
      "Requirement already satisfied: certifi>=2017.4.17 in c:\\users\\siddh\\appdata\\roaming\\python\\python312\\site-packages (from requests<3.0.0,>=2.23.0->deep-translator) (2023.11.17)\n"
     ]
    }
   ],
   "source": [
    "pip install deep-translator"
   ]
  },
  {
   "cell_type": "code",
   "execution_count": 2,
   "id": "04610e03-8c6e-45a9-9f2f-b6f63e2fca1c",
   "metadata": {},
   "outputs": [
    {
     "name": "stdout",
     "output_type": "stream",
     "text": [
      "Requirement already satisfied: pillow in c:\\users\\siddh\\appdata\\roaming\\python\\python312\\site-packages (10.1.0)\n",
      "Collecting googletrans==4.0.0rc1\n",
      "  Using cached googletrans-4.0.0rc1-py3-none-any.whl\n",
      "Requirement already satisfied: requests in c:\\users\\siddh\\appdata\\roaming\\python\\python312\\site-packages (2.31.0)\n",
      "Requirement already satisfied: customtkinter in c:\\users\\siddh\\anaconda3\\lib\\site-packages (5.2.2)\n",
      "Requirement already satisfied: pyttsx3 in c:\\users\\siddh\\appdata\\roaming\\python\\python312\\site-packages (2.90)\n",
      "Requirement already satisfied: pandas in c:\\users\\siddh\\appdata\\roaming\\python\\python312\\site-packages (2.2.0)\n",
      "Requirement already satisfied: numpy in c:\\users\\siddh\\appdata\\roaming\\python\\python312\\site-packages (1.26.2)\n",
      "Requirement already satisfied: matplotlib in c:\\users\\siddh\\appdata\\roaming\\python\\python312\\site-packages (3.8.2)\n",
      "Requirement already satisfied: seaborn in c:\\users\\siddh\\appdata\\roaming\\python\\python312\\site-packages (0.13.1)\n",
      "Collecting httpx==0.13.3 (from googletrans==4.0.0rc1)\n",
      "  Using cached httpx-0.13.3-py3-none-any.whl.metadata (25 kB)\n",
      "Requirement already satisfied: certifi in c:\\users\\siddh\\appdata\\roaming\\python\\python312\\site-packages (from httpx==0.13.3->googletrans==4.0.0rc1) (2023.11.17)\n",
      "Requirement already satisfied: hstspreload in c:\\users\\siddh\\anaconda3\\lib\\site-packages (from httpx==0.13.3->googletrans==4.0.0rc1) (2024.7.1)\n",
      "Requirement already satisfied: sniffio in c:\\users\\siddh\\appdata\\roaming\\python\\python312\\site-packages (from httpx==0.13.3->googletrans==4.0.0rc1) (1.3.0)\n",
      "Requirement already satisfied: chardet==3.* in c:\\users\\siddh\\anaconda3\\lib\\site-packages (from httpx==0.13.3->googletrans==4.0.0rc1) (3.0.4)\n",
      "Requirement already satisfied: idna==2.* in c:\\users\\siddh\\anaconda3\\lib\\site-packages (from httpx==0.13.3->googletrans==4.0.0rc1) (2.10)\n",
      "Requirement already satisfied: rfc3986<2,>=1.3 in c:\\users\\siddh\\anaconda3\\lib\\site-packages (from httpx==0.13.3->googletrans==4.0.0rc1) (1.5.0)\n",
      "Collecting httpcore==0.9.* (from httpx==0.13.3->googletrans==4.0.0rc1)\n",
      "  Using cached httpcore-0.9.1-py3-none-any.whl.metadata (4.6 kB)\n",
      "Collecting h11<0.10,>=0.8 (from httpcore==0.9.*->httpx==0.13.3->googletrans==4.0.0rc1)\n",
      "  Using cached h11-0.9.0-py2.py3-none-any.whl.metadata (8.1 kB)\n",
      "Requirement already satisfied: h2==3.* in c:\\users\\siddh\\anaconda3\\lib\\site-packages (from httpcore==0.9.*->httpx==0.13.3->googletrans==4.0.0rc1) (3.2.0)\n",
      "Requirement already satisfied: hyperframe<6,>=5.2.0 in c:\\users\\siddh\\anaconda3\\lib\\site-packages (from h2==3.*->httpcore==0.9.*->httpx==0.13.3->googletrans==4.0.0rc1) (5.2.0)\n",
      "Requirement already satisfied: hpack<4,>=3.0 in c:\\users\\siddh\\anaconda3\\lib\\site-packages (from h2==3.*->httpcore==0.9.*->httpx==0.13.3->googletrans==4.0.0rc1) (3.0.0)\n",
      "Requirement already satisfied: charset-normalizer<4,>=2 in c:\\users\\siddh\\appdata\\roaming\\python\\python312\\site-packages (from requests) (3.3.2)\n",
      "Requirement already satisfied: urllib3<3,>=1.21.1 in c:\\users\\siddh\\appdata\\roaming\\python\\python312\\site-packages (from requests) (2.1.0)\n",
      "Requirement already satisfied: darkdetect in c:\\users\\siddh\\anaconda3\\lib\\site-packages (from customtkinter) (0.8.0)\n",
      "Requirement already satisfied: packaging in c:\\users\\siddh\\appdata\\roaming\\python\\python312\\site-packages (from customtkinter) (23.2)\n",
      "Requirement already satisfied: comtypes in c:\\users\\siddh\\appdata\\roaming\\python\\python312\\site-packages (from pyttsx3) (1.4.6)\n",
      "Requirement already satisfied: pypiwin32 in c:\\users\\siddh\\appdata\\roaming\\python\\python312\\site-packages (from pyttsx3) (223)\n",
      "Requirement already satisfied: pywin32 in c:\\users\\siddh\\appdata\\roaming\\python\\python312\\site-packages (from pyttsx3) (306)\n",
      "Requirement already satisfied: python-dateutil>=2.8.2 in c:\\users\\siddh\\appdata\\roaming\\python\\python312\\site-packages (from pandas) (2.8.2)\n",
      "Requirement already satisfied: pytz>=2020.1 in c:\\users\\siddh\\appdata\\roaming\\python\\python312\\site-packages (from pandas) (2023.3.post1)\n",
      "Requirement already satisfied: tzdata>=2022.7 in c:\\users\\siddh\\appdata\\roaming\\python\\python312\\site-packages (from pandas) (2023.4)\n",
      "Requirement already satisfied: contourpy>=1.0.1 in c:\\users\\siddh\\appdata\\roaming\\python\\python312\\site-packages (from matplotlib) (1.2.0)\n",
      "Requirement already satisfied: cycler>=0.10 in c:\\users\\siddh\\appdata\\roaming\\python\\python312\\site-packages (from matplotlib) (0.12.1)\n",
      "Requirement already satisfied: fonttools>=4.22.0 in c:\\users\\siddh\\appdata\\roaming\\python\\python312\\site-packages (from matplotlib) (4.47.0)\n",
      "Requirement already satisfied: kiwisolver>=1.3.1 in c:\\users\\siddh\\appdata\\roaming\\python\\python312\\site-packages (from matplotlib) (1.4.5)\n",
      "Requirement already satisfied: pyparsing>=2.3.1 in c:\\users\\siddh\\appdata\\roaming\\python\\python312\\site-packages (from matplotlib) (3.1.1)\n",
      "Requirement already satisfied: six>=1.5 in c:\\users\\siddh\\appdata\\roaming\\python\\python312\\site-packages (from python-dateutil>=2.8.2->pandas) (1.16.0)\n",
      "Using cached httpx-0.13.3-py3-none-any.whl (55 kB)\n",
      "Using cached httpcore-0.9.1-py3-none-any.whl (42 kB)\n",
      "Using cached h11-0.9.0-py2.py3-none-any.whl (53 kB)\n",
      "Installing collected packages: h11, httpcore, httpx, googletrans\n",
      "  Attempting uninstall: h11\n",
      "    Found existing installation: h11 0.12.0\n",
      "    Uninstalling h11-0.12.0:\n",
      "      Successfully uninstalled h11-0.12.0\n",
      "  Attempting uninstall: httpcore\n",
      "    Found existing installation: httpcore 0.15.0\n",
      "    Uninstalling httpcore-0.15.0:\n",
      "      Successfully uninstalled httpcore-0.15.0\n",
      "  Attempting uninstall: httpx\n",
      "    Found existing installation: httpx 0.25.1\n",
      "    Uninstalling httpx-0.25.1:\n",
      "      Successfully uninstalled httpx-0.25.1\n",
      "  Attempting uninstall: googletrans\n",
      "    Found existing installation: googletrans 2.4.0\n",
      "    Uninstalling googletrans-2.4.0:\n",
      "      Successfully uninstalled googletrans-2.4.0\n",
      "Successfully installed googletrans-4.0.0rc1 h11-0.9.0 httpcore-0.9.1 httpx-0.13.3\n"
     ]
    },
    {
     "name": "stderr",
     "output_type": "stream",
     "text": [
      "ERROR: pip's dependency resolver does not currently take into account all the packages that are installed. This behaviour is the source of the following dependency conflicts.\n",
      "openai 1.40.2 requires httpx<1,>=0.23.0, but you have httpx 0.13.3 which is incompatible.\n"
     ]
    }
   ],
   "source": [
    "!pip install pillow googletrans==4.0.0rc1 requests customtkinter pyttsx3 pandas numpy matplotlib seaborn"
   ]
  },
  {
   "cell_type": "code",
   "execution_count": 3,
   "id": "5034ccbb-54a7-458e-933a-3058a149df4d",
   "metadata": {},
   "outputs": [
    {
     "name": "stdout",
     "output_type": "stream",
     "text": [
      "Requirement already satisfied: googletrans==4.0.0-rc1 in c:\\users\\siddh\\anaconda3\\lib\\site-packages (4.0.0rc1)\n",
      "Requirement already satisfied: httpx==0.13.3 in c:\\users\\siddh\\anaconda3\\lib\\site-packages (from googletrans==4.0.0-rc1) (0.13.3)\n",
      "Requirement already satisfied: certifi in c:\\users\\siddh\\appdata\\roaming\\python\\python312\\site-packages (from httpx==0.13.3->googletrans==4.0.0-rc1) (2023.11.17)\n",
      "Requirement already satisfied: hstspreload in c:\\users\\siddh\\anaconda3\\lib\\site-packages (from httpx==0.13.3->googletrans==4.0.0-rc1) (2024.7.1)\n",
      "Requirement already satisfied: sniffio in c:\\users\\siddh\\appdata\\roaming\\python\\python312\\site-packages (from httpx==0.13.3->googletrans==4.0.0-rc1) (1.3.0)\n",
      "Requirement already satisfied: chardet==3.* in c:\\users\\siddh\\anaconda3\\lib\\site-packages (from httpx==0.13.3->googletrans==4.0.0-rc1) (3.0.4)\n",
      "Requirement already satisfied: idna==2.* in c:\\users\\siddh\\anaconda3\\lib\\site-packages (from httpx==0.13.3->googletrans==4.0.0-rc1) (2.10)\n",
      "Requirement already satisfied: rfc3986<2,>=1.3 in c:\\users\\siddh\\anaconda3\\lib\\site-packages (from httpx==0.13.3->googletrans==4.0.0-rc1) (1.5.0)\n",
      "Requirement already satisfied: httpcore==0.9.* in c:\\users\\siddh\\anaconda3\\lib\\site-packages (from httpx==0.13.3->googletrans==4.0.0-rc1) (0.9.1)\n",
      "Requirement already satisfied: h11<0.10,>=0.8 in c:\\users\\siddh\\anaconda3\\lib\\site-packages (from httpcore==0.9.*->httpx==0.13.3->googletrans==4.0.0-rc1) (0.9.0)\n",
      "Requirement already satisfied: h2==3.* in c:\\users\\siddh\\anaconda3\\lib\\site-packages (from httpcore==0.9.*->httpx==0.13.3->googletrans==4.0.0-rc1) (3.2.0)\n",
      "Requirement already satisfied: hyperframe<6,>=5.2.0 in c:\\users\\siddh\\anaconda3\\lib\\site-packages (from h2==3.*->httpcore==0.9.*->httpx==0.13.3->googletrans==4.0.0-rc1) (5.2.0)\n",
      "Requirement already satisfied: hpack<4,>=3.0 in c:\\users\\siddh\\anaconda3\\lib\\site-packages (from h2==3.*->httpcore==0.9.*->httpx==0.13.3->googletrans==4.0.0-rc1) (3.0.0)\n",
      "Note: you may need to restart the kernel to use updated packages.\n"
     ]
    }
   ],
   "source": [
    "pip install googletrans==4.0.0-rc1\n"
   ]
  },
  {
   "cell_type": "code",
   "execution_count": 4,
   "id": "9184e715-175b-43dc-8f9b-703bc8173fe8",
   "metadata": {},
   "outputs": [],
   "source": [
    "from deep_translator import GoogleTranslator\n",
    "from tkinter import *\n",
    "import tkinter as tk\n",
    "from tkinter import ttk\n",
    "from PIL import ImageTk, Image\n",
    "from tkinter import messagebox\n",
    "\n",
    "root = tk.Tk()\n",
    "root.title('Language Translator')\n",
    "root.geometry('530x330')\n",
    "root.maxsize(530, 330)\n",
    "root.minsize(530, 330)\n",
    "\n",
    "# Dictionary to map language names to their ISO codes\n",
    "languages = {\n",
    "    'Afrikaans': 'af', 'Albanian': 'sq', 'Arabic': 'ar', 'Armenian': 'hy', 'Azerbaijani': 'az',\n",
    "    'Basque': 'eu', 'Belarusian': 'be', 'Bengali': 'bn', 'Bosnian': 'bs', 'Bulgarian': 'bg',\n",
    "    'Catalan': 'ca', 'Cebuano': 'ceb', 'Chichewa': 'ny', 'Chinese': 'zh-cn', 'Corsican': 'co',\n",
    "    'Croatian': 'hr', 'Czech': 'cs', 'Danish': 'da', 'Dutch': 'nl', 'English': 'en',\n",
    "    'Esperanto': 'eo', 'Estonian': 'et', 'Filipino': 'tl', 'Finnish': 'fi', 'French': 'fr',\n",
    "    'Frisian': 'fy', 'Galician': 'gl', 'Georgian': 'ka', 'German': 'de', 'Greek': 'el',\n",
    "    'Gujarati': 'gu', 'Haitian Creole': 'ht', 'Hausa': 'ha', 'Hawaiian': 'haw', 'Hebrew': 'he',\n",
    "    'Hindi': 'hi', 'Hmong': 'hmn', 'Hungarian': 'hu', 'Icelandic': 'is', 'Igbo': 'ig',\n",
    "    'Indonesian': 'id', 'Irish': 'ga', 'Italian': 'it', 'Japanese': 'ja', 'Javanese': 'jw',\n",
    "    'Kannada': 'kn', 'Kazakh': 'kk', 'Khmer': 'km', 'Kinyarwanda': 'rw', 'Korean': 'ko',\n",
    "    'Kurdish': 'ku', 'Kyrgyz': 'ky', 'Lao': 'lo', 'Latin': 'la', 'Latvian': 'lv',\n",
    "    'Lithuanian': 'lt', 'Luxembourgish': 'lb', 'Macedonian': 'mk', 'Malagasy': 'mg', 'Malay': 'ms',\n",
    "    'Malayalam': 'ml', 'Maltese': 'mt', 'Maori': 'mi', 'Marathi': 'mr', 'Mongolian': 'mn',\n",
    "    'Myanmar': 'my', 'Nepali': 'ne', 'Norwegian': 'no', 'Odia': 'or', 'Pashto': 'ps',\n",
    "    'Persian': 'fa', 'Polish': 'pl', 'Portuguese': 'pt', 'Punjabi': 'pa', 'Romanian': 'ro',\n",
    "    'Russian': 'ru', 'Samoan': 'sm', 'Scots Gaelic': 'gd', 'Serbian': 'sr', 'Sesotho': 'st',\n",
    "    'Shona': 'sn', 'Sindhi': 'sd', 'Sinhala': 'si', 'Slovak': 'sk', 'Slovenian': 'sl',\n",
    "    'Somali': 'so', 'Spanish': 'es', 'Sundanese': 'su', 'Swahili': 'sw', 'Swedish': 'sv',\n",
    "    'Tajik': 'tg', 'Tamil': 'ta', 'Tatar': 'tt', 'Telugu': 'te', 'Thai': 'th',\n",
    "    'Turkish': 'tr', 'Turkmen': 'tk', 'Ukrainian': 'uk', 'Urdu': 'ur', 'Uyghur': 'ug',\n",
    "    'Uzbek': 'uz', 'Vietnamese': 'vi', 'Welsh': 'cy', 'Xhosa': 'xh', 'Yiddish': 'yi',\n",
    "    'Yoruba': 'yo', 'Zulu': 'zu'\n",
    "}\n",
    "\n",
    "def translate():\n",
    "    language_1 = t1.get(\"1.0\", \"end-1c\")\n",
    "    cl = choose_language.get()\n",
    "\n",
    "    if language_1 == '':\n",
    "        messagebox.showerror('Language Translator', 'Please fill the box')\n",
    "    else:\n",
    "        t2.delete(1.0, 'end')\n",
    "        target_lang_code = languages.get(cl, 'en')  # default to English if not found\n",
    "        translator = GoogleTranslator(source='auto', target=target_lang_code)\n",
    "        output = translator.translate(language_1)\n",
    "        t2.insert('end', output)\n",
    "\n",
    "def clear_text():\n",
    "    t1.delete(1.0, 'end')\n",
    "    t2.delete(1.0, 'end')\n",
    "\n",
    "img = ImageTk.PhotoImage(Image.open('translator.png'))\n",
    "label = Label(image=img)\n",
    "label.place(x=230, y=3)\n",
    "\n",
    "choose_language = ttk.Combobox(root, width=20, state='readonly', font=('verdana', 10, 'bold'))\n",
    "choose_language['values'] = list(languages.keys())  # set the language display names\n",
    "choose_language.place(x=290, y=70)\n",
    "choose_language.current(0)\n",
    "\n",
    "t1 = Text(root, width=30, height=10, borderwidth=5, relief=RIDGE)\n",
    "t1.place(x=10, y=100)\n",
    "\n",
    "t2 = Text(root, width=30, height=10, borderwidth=5, relief=RIDGE)\n",
    "t2.place(x=260, y=100)\n",
    "\n",
    "button = Button(root, text=\"Translate\", relief=RIDGE, borderwidth=3, font=('verdana', 10, 'bold'), cursor=\"hand2\", command=translate)\n",
    "button.place(x=150, y=280)\n",
    "\n",
    "clear_btn = Button(root, text=\"Clear\", relief=RIDGE, borderwidth=3, font=('verdana', 10, 'bold'), cursor=\"hand2\", command=clear_text)\n",
    "clear_btn.place(x=280, y=280)\n",
    "\n",
    "root.mainloop()\n"
   ]
  },
  {
   "cell_type": "code",
   "execution_count": 14,
   "id": "38a8d6b0-2886-4163-887f-9f6275ca150b",
   "metadata": {},
   "outputs": [],
   "source": [
    "def getVideoUrl(content):\n",
    "    fmtre = re.search('(?<=fmt_url_map=).*', content)\n",
    "    if fmtre is None:\n",
    "        return None\n",
    "    grps = fmtre.group(0).split('&amp;')\n",
    "    vurls = urllib2.unquote(grps[0])\n",
    "    videoUrl = None\n",
    "    for vurl in vurls.split('|'):\n",
    "        if vurl.find('itag=5') > 0:\n",
    "            return vurl\n",
    "    return None"
   ]
  },
  {
   "cell_type": "code",
   "execution_count": null,
   "id": "37d5eed3-9556-49a8-bc1d-ff69620856a4",
   "metadata": {},
   "outputs": [],
   "source": []
  },
  {
   "cell_type": "code",
   "execution_count": null,
   "id": "77346704-2e02-441a-a311-d76ff978b3e8",
   "metadata": {},
   "outputs": [],
   "source": []
  },
  {
   "cell_type": "code",
   "execution_count": null,
   "id": "9504749d-31d4-4a99-b086-4878f802a386",
   "metadata": {},
   "outputs": [],
   "source": []
  },
  {
   "cell_type": "code",
   "execution_count": null,
   "id": "972aeffe-8807-4ab7-beab-2263c375498d",
   "metadata": {},
   "outputs": [],
   "source": []
  }
 ],
 "metadata": {
  "kernelspec": {
   "display_name": "Python 3 (ipykernel)",
   "language": "python",
   "name": "python3"
  },
  "language_info": {
   "codemirror_mode": {
    "name": "ipython",
    "version": 3
   },
   "file_extension": ".py",
   "mimetype": "text/x-python",
   "name": "python",
   "nbconvert_exporter": "python",
   "pygments_lexer": "ipython3",
   "version": "3.12.4"
  }
 },
 "nbformat": 4,
 "nbformat_minor": 5
}
