{
 "cells": [
  {
   "cell_type": "code",
   "execution_count": 1,
   "id": "cc671d3f",
   "metadata": {},
   "outputs": [],
   "source": [
    "import pandas as pd\n",
    "import numpy as np\n",
    "import matplotlib.pyplot as plt\n",
    "import seaborn as sns\n",
    "from collections import *\n",
    "import pickle\n",
    "import webbrowser"
   ]
  },
  {
   "cell_type": "code",
   "execution_count": null,
   "id": "6bf33724",
   "metadata": {},
   "outputs": [],
   "source": []
  },
  {
   "cell_type": "code",
   "execution_count": 3,
   "id": "61d8fac3",
   "metadata": {},
   "outputs": [
    {
     "name": "stderr",
     "output_type": "stream",
     "text": [
      "C:\\Users\\siddh\\AppData\\Local\\Temp\\ipykernel_15368\\1660239959.py:3: DtypeWarning: Columns (3) have mixed types. Specify dtype option on import or set low_memory=False.\n",
      "  books = pd.read_csv('Books.csv')\n"
     ]
    },
    {
     "ename": "FileNotFoundError",
     "evalue": "[Errno 2] No such file or directory: 'Users.csv'",
     "output_type": "error",
     "traceback": [
      "\u001b[1;31m---------------------------------------------------------------------------\u001b[0m",
      "\u001b[1;31mFileNotFoundError\u001b[0m                         Traceback (most recent call last)",
      "Cell \u001b[1;32mIn[3], line 5\u001b[0m\n\u001b[0;32m      3\u001b[0m books \u001b[38;5;241m=\u001b[39m pd\u001b[38;5;241m.\u001b[39mread_csv(\u001b[38;5;124m'\u001b[39m\u001b[38;5;124mBooks.csv\u001b[39m\u001b[38;5;124m'\u001b[39m)\n\u001b[0;32m      4\u001b[0m ratings \u001b[38;5;241m=\u001b[39m pd\u001b[38;5;241m.\u001b[39mread_csv(\u001b[38;5;124m'\u001b[39m\u001b[38;5;124mRatings.csv\u001b[39m\u001b[38;5;124m'\u001b[39m)\n\u001b[1;32m----> 5\u001b[0m users \u001b[38;5;241m=\u001b[39m \u001b[43mpd\u001b[49m\u001b[38;5;241;43m.\u001b[39;49m\u001b[43mread_csv\u001b[49m\u001b[43m(\u001b[49m\u001b[38;5;124;43m'\u001b[39;49m\u001b[38;5;124;43mUsers.csv\u001b[39;49m\u001b[38;5;124;43m'\u001b[39;49m\u001b[43m)\u001b[49m\n\u001b[0;32m      7\u001b[0m books\u001b[38;5;241m.\u001b[39mdropna(inplace\u001b[38;5;241m=\u001b[39m\u001b[38;5;28;01mTrue\u001b[39;00m)\n",
      "File \u001b[1;32m~\\AppData\\Roaming\\Python\\Python312\\site-packages\\pandas\\io\\parsers\\readers.py:1024\u001b[0m, in \u001b[0;36mread_csv\u001b[1;34m(filepath_or_buffer, sep, delimiter, header, names, index_col, usecols, dtype, engine, converters, true_values, false_values, skipinitialspace, skiprows, skipfooter, nrows, na_values, keep_default_na, na_filter, verbose, skip_blank_lines, parse_dates, infer_datetime_format, keep_date_col, date_parser, date_format, dayfirst, cache_dates, iterator, chunksize, compression, thousands, decimal, lineterminator, quotechar, quoting, doublequote, escapechar, comment, encoding, encoding_errors, dialect, on_bad_lines, delim_whitespace, low_memory, memory_map, float_precision, storage_options, dtype_backend)\u001b[0m\n\u001b[0;32m   1011\u001b[0m kwds_defaults \u001b[38;5;241m=\u001b[39m _refine_defaults_read(\n\u001b[0;32m   1012\u001b[0m     dialect,\n\u001b[0;32m   1013\u001b[0m     delimiter,\n\u001b[1;32m   (...)\u001b[0m\n\u001b[0;32m   1020\u001b[0m     dtype_backend\u001b[38;5;241m=\u001b[39mdtype_backend,\n\u001b[0;32m   1021\u001b[0m )\n\u001b[0;32m   1022\u001b[0m kwds\u001b[38;5;241m.\u001b[39mupdate(kwds_defaults)\n\u001b[1;32m-> 1024\u001b[0m \u001b[38;5;28;01mreturn\u001b[39;00m \u001b[43m_read\u001b[49m\u001b[43m(\u001b[49m\u001b[43mfilepath_or_buffer\u001b[49m\u001b[43m,\u001b[49m\u001b[43m \u001b[49m\u001b[43mkwds\u001b[49m\u001b[43m)\u001b[49m\n",
      "File \u001b[1;32m~\\AppData\\Roaming\\Python\\Python312\\site-packages\\pandas\\io\\parsers\\readers.py:618\u001b[0m, in \u001b[0;36m_read\u001b[1;34m(filepath_or_buffer, kwds)\u001b[0m\n\u001b[0;32m    615\u001b[0m _validate_names(kwds\u001b[38;5;241m.\u001b[39mget(\u001b[38;5;124m\"\u001b[39m\u001b[38;5;124mnames\u001b[39m\u001b[38;5;124m\"\u001b[39m, \u001b[38;5;28;01mNone\u001b[39;00m))\n\u001b[0;32m    617\u001b[0m \u001b[38;5;66;03m# Create the parser.\u001b[39;00m\n\u001b[1;32m--> 618\u001b[0m parser \u001b[38;5;241m=\u001b[39m \u001b[43mTextFileReader\u001b[49m\u001b[43m(\u001b[49m\u001b[43mfilepath_or_buffer\u001b[49m\u001b[43m,\u001b[49m\u001b[43m \u001b[49m\u001b[38;5;241;43m*\u001b[39;49m\u001b[38;5;241;43m*\u001b[39;49m\u001b[43mkwds\u001b[49m\u001b[43m)\u001b[49m\n\u001b[0;32m    620\u001b[0m \u001b[38;5;28;01mif\u001b[39;00m chunksize \u001b[38;5;129;01mor\u001b[39;00m iterator:\n\u001b[0;32m    621\u001b[0m     \u001b[38;5;28;01mreturn\u001b[39;00m parser\n",
      "File \u001b[1;32m~\\AppData\\Roaming\\Python\\Python312\\site-packages\\pandas\\io\\parsers\\readers.py:1618\u001b[0m, in \u001b[0;36mTextFileReader.__init__\u001b[1;34m(self, f, engine, **kwds)\u001b[0m\n\u001b[0;32m   1615\u001b[0m     \u001b[38;5;28mself\u001b[39m\u001b[38;5;241m.\u001b[39moptions[\u001b[38;5;124m\"\u001b[39m\u001b[38;5;124mhas_index_names\u001b[39m\u001b[38;5;124m\"\u001b[39m] \u001b[38;5;241m=\u001b[39m kwds[\u001b[38;5;124m\"\u001b[39m\u001b[38;5;124mhas_index_names\u001b[39m\u001b[38;5;124m\"\u001b[39m]\n\u001b[0;32m   1617\u001b[0m \u001b[38;5;28mself\u001b[39m\u001b[38;5;241m.\u001b[39mhandles: IOHandles \u001b[38;5;241m|\u001b[39m \u001b[38;5;28;01mNone\u001b[39;00m \u001b[38;5;241m=\u001b[39m \u001b[38;5;28;01mNone\u001b[39;00m\n\u001b[1;32m-> 1618\u001b[0m \u001b[38;5;28mself\u001b[39m\u001b[38;5;241m.\u001b[39m_engine \u001b[38;5;241m=\u001b[39m \u001b[38;5;28;43mself\u001b[39;49m\u001b[38;5;241;43m.\u001b[39;49m\u001b[43m_make_engine\u001b[49m\u001b[43m(\u001b[49m\u001b[43mf\u001b[49m\u001b[43m,\u001b[49m\u001b[43m \u001b[49m\u001b[38;5;28;43mself\u001b[39;49m\u001b[38;5;241;43m.\u001b[39;49m\u001b[43mengine\u001b[49m\u001b[43m)\u001b[49m\n",
      "File \u001b[1;32m~\\AppData\\Roaming\\Python\\Python312\\site-packages\\pandas\\io\\parsers\\readers.py:1878\u001b[0m, in \u001b[0;36mTextFileReader._make_engine\u001b[1;34m(self, f, engine)\u001b[0m\n\u001b[0;32m   1876\u001b[0m     \u001b[38;5;28;01mif\u001b[39;00m \u001b[38;5;124m\"\u001b[39m\u001b[38;5;124mb\u001b[39m\u001b[38;5;124m\"\u001b[39m \u001b[38;5;129;01mnot\u001b[39;00m \u001b[38;5;129;01min\u001b[39;00m mode:\n\u001b[0;32m   1877\u001b[0m         mode \u001b[38;5;241m+\u001b[39m\u001b[38;5;241m=\u001b[39m \u001b[38;5;124m\"\u001b[39m\u001b[38;5;124mb\u001b[39m\u001b[38;5;124m\"\u001b[39m\n\u001b[1;32m-> 1878\u001b[0m \u001b[38;5;28mself\u001b[39m\u001b[38;5;241m.\u001b[39mhandles \u001b[38;5;241m=\u001b[39m \u001b[43mget_handle\u001b[49m\u001b[43m(\u001b[49m\n\u001b[0;32m   1879\u001b[0m \u001b[43m    \u001b[49m\u001b[43mf\u001b[49m\u001b[43m,\u001b[49m\n\u001b[0;32m   1880\u001b[0m \u001b[43m    \u001b[49m\u001b[43mmode\u001b[49m\u001b[43m,\u001b[49m\n\u001b[0;32m   1881\u001b[0m \u001b[43m    \u001b[49m\u001b[43mencoding\u001b[49m\u001b[38;5;241;43m=\u001b[39;49m\u001b[38;5;28;43mself\u001b[39;49m\u001b[38;5;241;43m.\u001b[39;49m\u001b[43moptions\u001b[49m\u001b[38;5;241;43m.\u001b[39;49m\u001b[43mget\u001b[49m\u001b[43m(\u001b[49m\u001b[38;5;124;43m\"\u001b[39;49m\u001b[38;5;124;43mencoding\u001b[39;49m\u001b[38;5;124;43m\"\u001b[39;49m\u001b[43m,\u001b[49m\u001b[43m \u001b[49m\u001b[38;5;28;43;01mNone\u001b[39;49;00m\u001b[43m)\u001b[49m\u001b[43m,\u001b[49m\n\u001b[0;32m   1882\u001b[0m \u001b[43m    \u001b[49m\u001b[43mcompression\u001b[49m\u001b[38;5;241;43m=\u001b[39;49m\u001b[38;5;28;43mself\u001b[39;49m\u001b[38;5;241;43m.\u001b[39;49m\u001b[43moptions\u001b[49m\u001b[38;5;241;43m.\u001b[39;49m\u001b[43mget\u001b[49m\u001b[43m(\u001b[49m\u001b[38;5;124;43m\"\u001b[39;49m\u001b[38;5;124;43mcompression\u001b[39;49m\u001b[38;5;124;43m\"\u001b[39;49m\u001b[43m,\u001b[49m\u001b[43m \u001b[49m\u001b[38;5;28;43;01mNone\u001b[39;49;00m\u001b[43m)\u001b[49m\u001b[43m,\u001b[49m\n\u001b[0;32m   1883\u001b[0m \u001b[43m    \u001b[49m\u001b[43mmemory_map\u001b[49m\u001b[38;5;241;43m=\u001b[39;49m\u001b[38;5;28;43mself\u001b[39;49m\u001b[38;5;241;43m.\u001b[39;49m\u001b[43moptions\u001b[49m\u001b[38;5;241;43m.\u001b[39;49m\u001b[43mget\u001b[49m\u001b[43m(\u001b[49m\u001b[38;5;124;43m\"\u001b[39;49m\u001b[38;5;124;43mmemory_map\u001b[39;49m\u001b[38;5;124;43m\"\u001b[39;49m\u001b[43m,\u001b[49m\u001b[43m \u001b[49m\u001b[38;5;28;43;01mFalse\u001b[39;49;00m\u001b[43m)\u001b[49m\u001b[43m,\u001b[49m\n\u001b[0;32m   1884\u001b[0m \u001b[43m    \u001b[49m\u001b[43mis_text\u001b[49m\u001b[38;5;241;43m=\u001b[39;49m\u001b[43mis_text\u001b[49m\u001b[43m,\u001b[49m\n\u001b[0;32m   1885\u001b[0m \u001b[43m    \u001b[49m\u001b[43merrors\u001b[49m\u001b[38;5;241;43m=\u001b[39;49m\u001b[38;5;28;43mself\u001b[39;49m\u001b[38;5;241;43m.\u001b[39;49m\u001b[43moptions\u001b[49m\u001b[38;5;241;43m.\u001b[39;49m\u001b[43mget\u001b[49m\u001b[43m(\u001b[49m\u001b[38;5;124;43m\"\u001b[39;49m\u001b[38;5;124;43mencoding_errors\u001b[39;49m\u001b[38;5;124;43m\"\u001b[39;49m\u001b[43m,\u001b[49m\u001b[43m \u001b[49m\u001b[38;5;124;43m\"\u001b[39;49m\u001b[38;5;124;43mstrict\u001b[39;49m\u001b[38;5;124;43m\"\u001b[39;49m\u001b[43m)\u001b[49m\u001b[43m,\u001b[49m\n\u001b[0;32m   1886\u001b[0m \u001b[43m    \u001b[49m\u001b[43mstorage_options\u001b[49m\u001b[38;5;241;43m=\u001b[39;49m\u001b[38;5;28;43mself\u001b[39;49m\u001b[38;5;241;43m.\u001b[39;49m\u001b[43moptions\u001b[49m\u001b[38;5;241;43m.\u001b[39;49m\u001b[43mget\u001b[49m\u001b[43m(\u001b[49m\u001b[38;5;124;43m\"\u001b[39;49m\u001b[38;5;124;43mstorage_options\u001b[39;49m\u001b[38;5;124;43m\"\u001b[39;49m\u001b[43m,\u001b[49m\u001b[43m \u001b[49m\u001b[38;5;28;43;01mNone\u001b[39;49;00m\u001b[43m)\u001b[49m\u001b[43m,\u001b[49m\n\u001b[0;32m   1887\u001b[0m \u001b[43m\u001b[49m\u001b[43m)\u001b[49m\n\u001b[0;32m   1888\u001b[0m \u001b[38;5;28;01massert\u001b[39;00m \u001b[38;5;28mself\u001b[39m\u001b[38;5;241m.\u001b[39mhandles \u001b[38;5;129;01mis\u001b[39;00m \u001b[38;5;129;01mnot\u001b[39;00m \u001b[38;5;28;01mNone\u001b[39;00m\n\u001b[0;32m   1889\u001b[0m f \u001b[38;5;241m=\u001b[39m \u001b[38;5;28mself\u001b[39m\u001b[38;5;241m.\u001b[39mhandles\u001b[38;5;241m.\u001b[39mhandle\n",
      "File \u001b[1;32m~\\AppData\\Roaming\\Python\\Python312\\site-packages\\pandas\\io\\common.py:873\u001b[0m, in \u001b[0;36mget_handle\u001b[1;34m(path_or_buf, mode, encoding, compression, memory_map, is_text, errors, storage_options)\u001b[0m\n\u001b[0;32m    868\u001b[0m \u001b[38;5;28;01melif\u001b[39;00m \u001b[38;5;28misinstance\u001b[39m(handle, \u001b[38;5;28mstr\u001b[39m):\n\u001b[0;32m    869\u001b[0m     \u001b[38;5;66;03m# Check whether the filename is to be opened in binary mode.\u001b[39;00m\n\u001b[0;32m    870\u001b[0m     \u001b[38;5;66;03m# Binary mode does not support 'encoding' and 'newline'.\u001b[39;00m\n\u001b[0;32m    871\u001b[0m     \u001b[38;5;28;01mif\u001b[39;00m ioargs\u001b[38;5;241m.\u001b[39mencoding \u001b[38;5;129;01mand\u001b[39;00m \u001b[38;5;124m\"\u001b[39m\u001b[38;5;124mb\u001b[39m\u001b[38;5;124m\"\u001b[39m \u001b[38;5;129;01mnot\u001b[39;00m \u001b[38;5;129;01min\u001b[39;00m ioargs\u001b[38;5;241m.\u001b[39mmode:\n\u001b[0;32m    872\u001b[0m         \u001b[38;5;66;03m# Encoding\u001b[39;00m\n\u001b[1;32m--> 873\u001b[0m         handle \u001b[38;5;241m=\u001b[39m \u001b[38;5;28;43mopen\u001b[39;49m\u001b[43m(\u001b[49m\n\u001b[0;32m    874\u001b[0m \u001b[43m            \u001b[49m\u001b[43mhandle\u001b[49m\u001b[43m,\u001b[49m\n\u001b[0;32m    875\u001b[0m \u001b[43m            \u001b[49m\u001b[43mioargs\u001b[49m\u001b[38;5;241;43m.\u001b[39;49m\u001b[43mmode\u001b[49m\u001b[43m,\u001b[49m\n\u001b[0;32m    876\u001b[0m \u001b[43m            \u001b[49m\u001b[43mencoding\u001b[49m\u001b[38;5;241;43m=\u001b[39;49m\u001b[43mioargs\u001b[49m\u001b[38;5;241;43m.\u001b[39;49m\u001b[43mencoding\u001b[49m\u001b[43m,\u001b[49m\n\u001b[0;32m    877\u001b[0m \u001b[43m            \u001b[49m\u001b[43merrors\u001b[49m\u001b[38;5;241;43m=\u001b[39;49m\u001b[43merrors\u001b[49m\u001b[43m,\u001b[49m\n\u001b[0;32m    878\u001b[0m \u001b[43m            \u001b[49m\u001b[43mnewline\u001b[49m\u001b[38;5;241;43m=\u001b[39;49m\u001b[38;5;124;43m\"\u001b[39;49m\u001b[38;5;124;43m\"\u001b[39;49m\u001b[43m,\u001b[49m\n\u001b[0;32m    879\u001b[0m \u001b[43m        \u001b[49m\u001b[43m)\u001b[49m\n\u001b[0;32m    880\u001b[0m     \u001b[38;5;28;01melse\u001b[39;00m:\n\u001b[0;32m    881\u001b[0m         \u001b[38;5;66;03m# Binary mode\u001b[39;00m\n\u001b[0;32m    882\u001b[0m         handle \u001b[38;5;241m=\u001b[39m \u001b[38;5;28mopen\u001b[39m(handle, ioargs\u001b[38;5;241m.\u001b[39mmode)\n",
      "\u001b[1;31mFileNotFoundError\u001b[0m: [Errno 2] No such file or directory: 'Users.csv'"
     ]
    }
   ],
   "source": [
    "# Importing the dataset\n",
    "\n",
    "books = pd.read_csv('Books.csv')\n",
    "ratings = pd.read_csv('Ratings.csv')\n",
    "users = pd.read_csv('Users.csv')\n",
    "\n",
    "books.dropna(inplace=True)"
   ]
  },
  {
   "cell_type": "markdown",
   "id": "a2e8d6d4",
   "metadata": {},
   "source": [
    "\n",
    "Models\n",
    "Popularity Based Approach\n",
    "The\n",
    "\n",
    "weighted rating (WR) = (v ÷ (v+m)) × R + (m ÷ (v+m)) × C\n",
    "where:\n",
    "\n",
    "R = average for the movie (mean)\n",
    "v = number of votes for the movie\n",
    "m = minimum votes required to be listed in the Top 250 \n",
    "C = the mean vote across the whole report ```"
   ]
  },
  {
   "cell_type": "code",
   "execution_count": 5,
   "id": "35c7d3ba",
   "metadata": {},
   "outputs": [],
   "source": [
    "# removing all the books whose ISBN is not 10 digits long\n",
    "\n",
    "books = books[books[\"ISBN\"].apply(lambda x: len(x) == 10)]\n",
    "\n",
    "unique_ISBN = set(books[\"ISBN\"].unique())\n",
    "\n",
    "# removing all the ISBNs that are not in the books dataset\n",
    "\n",
    "ratings = ratings[ratings[\"ISBN\"].isin(unique_ISBN)]\n",
    "\n",
    "# removing all the users who rated 0 to books\n",
    "\n",
    "ratings = ratings[ratings[\"bookRating\"] != 0]"
   ]
  },
  {
   "cell_type": "code",
   "execution_count": 6,
   "id": "4d161bd6",
   "metadata": {},
   "outputs": [
    {
     "data": {
      "text/html": [
       "<div>\n",
       "<style scoped>\n",
       "    .dataframe tbody tr th:only-of-type {\n",
       "        vertical-align: middle;\n",
       "    }\n",
       "\n",
       "    .dataframe tbody tr th {\n",
       "        vertical-align: top;\n",
       "    }\n",
       "\n",
       "    .dataframe thead th {\n",
       "        text-align: right;\n",
       "    }\n",
       "</style>\n",
       "<table border=\"1\" class=\"dataframe\">\n",
       "  <thead>\n",
       "    <tr style=\"text-align: right;\">\n",
       "      <th></th>\n",
       "      <th>index</th>\n",
       "      <th>ISBN</th>\n",
       "      <th>avg_rating</th>\n",
       "      <th>num_ratings</th>\n",
       "    </tr>\n",
       "  </thead>\n",
       "  <tbody>\n",
       "    <tr>\n",
       "      <th>21945</th>\n",
       "      <td>21945</td>\n",
       "      <td>0316666343</td>\n",
       "      <td>8.185290</td>\n",
       "      <td>707</td>\n",
       "    </tr>\n",
       "    <tr>\n",
       "      <th>117744</th>\n",
       "      <td>117744</td>\n",
       "      <td>0971880107</td>\n",
       "      <td>4.390706</td>\n",
       "      <td>581</td>\n",
       "    </tr>\n",
       "    <tr>\n",
       "      <th>38819</th>\n",
       "      <td>38819</td>\n",
       "      <td>0385504209</td>\n",
       "      <td>8.435318</td>\n",
       "      <td>487</td>\n",
       "    </tr>\n",
       "    <tr>\n",
       "      <th>18058</th>\n",
       "      <td>18058</td>\n",
       "      <td>0312195516</td>\n",
       "      <td>8.182768</td>\n",
       "      <td>383</td>\n",
       "    </tr>\n",
       "    <tr>\n",
       "      <th>4131</th>\n",
       "      <td>4131</td>\n",
       "      <td>0060928336</td>\n",
       "      <td>7.887500</td>\n",
       "      <td>320</td>\n",
       "    </tr>\n",
       "    <tr>\n",
       "      <th>...</th>\n",
       "      <td>...</td>\n",
       "      <td>...</td>\n",
       "      <td>...</td>\n",
       "      <td>...</td>\n",
       "    </tr>\n",
       "    <tr>\n",
       "      <th>63117</th>\n",
       "      <td>63117</td>\n",
       "      <td>0553100165</td>\n",
       "      <td>8.000000</td>\n",
       "      <td>1</td>\n",
       "    </tr>\n",
       "    <tr>\n",
       "      <th>63115</th>\n",
       "      <td>63115</td>\n",
       "      <td>0553100130</td>\n",
       "      <td>8.000000</td>\n",
       "      <td>1</td>\n",
       "    </tr>\n",
       "    <tr>\n",
       "      <th>63109</th>\n",
       "      <td>63109</td>\n",
       "      <td>0553099817</td>\n",
       "      <td>8.000000</td>\n",
       "      <td>1</td>\n",
       "    </tr>\n",
       "    <tr>\n",
       "      <th>63108</th>\n",
       "      <td>63108</td>\n",
       "      <td>0553099809</td>\n",
       "      <td>7.000000</td>\n",
       "      <td>1</td>\n",
       "    </tr>\n",
       "    <tr>\n",
       "      <th>149833</th>\n",
       "      <td>149833</td>\n",
       "      <td>B000234N3A</td>\n",
       "      <td>9.000000</td>\n",
       "      <td>1</td>\n",
       "    </tr>\n",
       "  </tbody>\n",
       "</table>\n",
       "<p>149834 rows × 4 columns</p>\n",
       "</div>"
      ],
      "text/plain": [
       "         index        ISBN  avg_rating  num_ratings\n",
       "21945    21945  0316666343    8.185290          707\n",
       "117744  117744  0971880107    4.390706          581\n",
       "38819    38819  0385504209    8.435318          487\n",
       "18058    18058  0312195516    8.182768          383\n",
       "4131      4131  0060928336    7.887500          320\n",
       "...        ...         ...         ...          ...\n",
       "63117    63117  0553100165    8.000000            1\n",
       "63115    63115  0553100130    8.000000            1\n",
       "63109    63109  0553099817    8.000000            1\n",
       "63108    63108  0553099809    7.000000            1\n",
       "149833  149833  B000234N3A    9.000000            1\n",
       "\n",
       "[149834 rows x 4 columns]"
      ]
     },
     "execution_count": 6,
     "metadata": {},
     "output_type": "execute_result"
    }
   ],
   "source": [
    "\n",
    "# makeing a dataframe which stores the avg rating of a book and also the number of ratings it has got\n",
    "\n",
    "avg_rating = pd.DataFrame()\n",
    "avg_rating[\"ISBN\"] = ratings.groupby(\"ISBN\")[\"bookRating\"].mean().index\n",
    "avg_rating[\"avg_rating\"] = ratings.groupby(\"ISBN\")[\"bookRating\"].mean().values\n",
    "avg_rating[\"num_ratings\"] = ratings.groupby(\"ISBN\")[\"bookRating\"].count().values\n",
    "\n",
    "avg_rating.reset_index(inplace=True)\n",
    "\n",
    "\n",
    "avg_rating.sort_values(\"num_ratings\", ascending=False)\n",
    "# sum(avg_rating[\"num_ratings\"])"
   ]
  },
  {
   "cell_type": "code",
   "execution_count": 7,
   "id": "8b3aa0ec",
   "metadata": {},
   "outputs": [],
   "source": [
    "\n",
    "# weighted rating (WR) = (v ÷ (v+m)) × R + (m ÷ (v+m)) × C\n",
    "# where:\n",
    "\n",
    "# R = average for the movie (mean)\n",
    "# v = number of votes for the movie\n",
    "# m = minimum votes required to be listed in the Top 250 \n",
    "# C = the mean vote across the whole report\n",
    "\n",
    "m = avg_rating[\"num_ratings\"].quantile(0.99) # top 150 books\n",
    "C = ratings[\"bookRating\"].mean()\n",
    "\n",
    "def weighted_rating(x, m = m, C=C):\n",
    "    v = x[\"num_ratings\"]\n",
    "    R = x[\"avg_rating\"]\n",
    "    return (v/(v+m) * R) + (m/(m+v) * C)\n",
    "\n",
    "\n",
    "avg_rating[\"weighted_rating\"] = avg_rating.apply(weighted_rating, axis=1)"
   ]
  },
  {
   "cell_type": "code",
   "execution_count": 8,
   "id": "214fbe11",
   "metadata": {},
   "outputs": [],
   "source": [
    "avg_rating.sort_values(\"weighted_rating\", ascending=False,inplace=True)\n",
    "avg_rating.drop([\"index\"], axis=1, inplace=True)"
   ]
  },
  {
   "cell_type": "code",
   "execution_count": 10,
   "id": "904d604b",
   "metadata": {},
   "outputs": [
    {
     "data": {
      "text/html": [
       "<div>\n",
       "<style scoped>\n",
       "    .dataframe tbody tr th:only-of-type {\n",
       "        vertical-align: middle;\n",
       "    }\n",
       "\n",
       "    .dataframe tbody tr th {\n",
       "        vertical-align: top;\n",
       "    }\n",
       "\n",
       "    .dataframe thead th {\n",
       "        text-align: right;\n",
       "    }\n",
       "</style>\n",
       "<table border=\"1\" class=\"dataframe\">\n",
       "  <thead>\n",
       "    <tr style=\"text-align: right;\">\n",
       "      <th></th>\n",
       "      <th>ISBN</th>\n",
       "      <th>avg_rating</th>\n",
       "      <th>num_ratings</th>\n",
       "      <th>weighted_rating</th>\n",
       "    </tr>\n",
       "  </thead>\n",
       "  <tbody>\n",
       "    <tr>\n",
       "      <th>46134</th>\n",
       "      <td>0439139597</td>\n",
       "      <td>9.262774</td>\n",
       "      <td>137</td>\n",
       "      <td>9.018886</td>\n",
       "    </tr>\n",
       "    <tr>\n",
       "      <th>24538</th>\n",
       "      <td>0345339738</td>\n",
       "      <td>9.402597</td>\n",
       "      <td>77</td>\n",
       "      <td>8.980600</td>\n",
       "    </tr>\n",
       "    <tr>\n",
       "      <th>46424</th>\n",
       "      <td>043935806X</td>\n",
       "      <td>9.033981</td>\n",
       "      <td>206</td>\n",
       "      <td>8.887133</td>\n",
       "    </tr>\n",
       "    <tr>\n",
       "      <th>46124</th>\n",
       "      <td>0439136369</td>\n",
       "      <td>9.082707</td>\n",
       "      <td>133</td>\n",
       "      <td>8.860131</td>\n",
       "    </tr>\n",
       "    <tr>\n",
       "      <th>68897</th>\n",
       "      <td>059035342X</td>\n",
       "      <td>8.939297</td>\n",
       "      <td>313</td>\n",
       "      <td>8.845818</td>\n",
       "    </tr>\n",
       "    <tr>\n",
       "      <th>46123</th>\n",
       "      <td>0439136350</td>\n",
       "      <td>9.035461</td>\n",
       "      <td>141</td>\n",
       "      <td>8.830549</td>\n",
       "    </tr>\n",
       "    <tr>\n",
       "      <th>50044</th>\n",
       "      <td>0446310786</td>\n",
       "      <td>8.943925</td>\n",
       "      <td>214</td>\n",
       "      <td>8.811095</td>\n",
       "    </tr>\n",
       "    <tr>\n",
       "      <th>24537</th>\n",
       "      <td>0345339711</td>\n",
       "      <td>9.120482</td>\n",
       "      <td>83</td>\n",
       "      <td>8.785426</td>\n",
       "    </tr>\n",
       "    <tr>\n",
       "      <th>68896</th>\n",
       "      <td>0590353403</td>\n",
       "      <td>8.983193</td>\n",
       "      <td>119</td>\n",
       "      <td>8.755529</td>\n",
       "    </tr>\n",
       "    <tr>\n",
       "      <th>46489</th>\n",
       "      <td>0439425220</td>\n",
       "      <td>9.869565</td>\n",
       "      <td>23</td>\n",
       "      <td>8.724268</td>\n",
       "    </tr>\n",
       "  </tbody>\n",
       "</table>\n",
       "</div>"
      ],
      "text/plain": [
       "             ISBN  avg_rating  num_ratings  weighted_rating\n",
       "46134  0439139597    9.262774          137         9.018886\n",
       "24538  0345339738    9.402597           77         8.980600\n",
       "46424  043935806X    9.033981          206         8.887133\n",
       "46124  0439136369    9.082707          133         8.860131\n",
       "68897  059035342X    8.939297          313         8.845818\n",
       "46123  0439136350    9.035461          141         8.830549\n",
       "50044  0446310786    8.943925          214         8.811095\n",
       "24537  0345339711    9.120482           83         8.785426\n",
       "68896  0590353403    8.983193          119         8.755529\n",
       "46489  0439425220    9.869565           23         8.724268"
      ]
     },
     "execution_count": 10,
     "metadata": {},
     "output_type": "execute_result"
    }
   ],
   "source": [
    "avg_rating.head(10)"
   ]
  },
  {
   "cell_type": "code",
   "execution_count": 11,
   "id": "eea6a673",
   "metadata": {},
   "outputs": [],
   "source": [
    "\n",
    "avg_rating.to_csv(\"avg_rating.csv\", index=False)"
   ]
  },
  {
   "cell_type": "markdown",
   "id": "8defa5c3",
   "metadata": {},
   "source": [
    "\n",
    "book covers of top rated books according to the model"
   ]
  },
  {
   "cell_type": "code",
   "execution_count": 13,
   "id": "cce6e456",
   "metadata": {},
   "outputs": [],
   "source": [
    "l = avg_rating.sort_values(\"weighted_rating\", ascending=False).head(10)[\"ISBN\"].values"
   ]
  },
  {
   "cell_type": "code",
   "execution_count": 14,
   "id": "58e0f062",
   "metadata": {},
   "outputs": [
    {
     "data": {
      "text/html": [
       "<img src=\"http://images.amazon.com/images/P/0439139597.01.MZZZZZZZ.jpg\"/>"
      ],
      "text/plain": [
       "<IPython.core.display.Image object>"
      ]
     },
     "metadata": {},
     "output_type": "display_data"
    },
    {
     "name": "stdout",
     "output_type": "stream",
     "text": [
      "Harry Potter and the Goblet of Fire (Book 4)\n"
     ]
    },
    {
     "data": {
      "text/html": [
       "<img src=\"http://images.amazon.com/images/P/0345339738.01.MZZZZZZZ.jpg\"/>"
      ],
      "text/plain": [
       "<IPython.core.display.Image object>"
      ]
     },
     "metadata": {},
     "output_type": "display_data"
    },
    {
     "name": "stdout",
     "output_type": "stream",
     "text": [
      "The Return of the King (The Lord of the Rings, Part 3)\n"
     ]
    },
    {
     "data": {
      "text/html": [
       "<img src=\"http://images.amazon.com/images/P/043935806X.01.MZZZZZZZ.jpg\"/>"
      ],
      "text/plain": [
       "<IPython.core.display.Image object>"
      ]
     },
     "metadata": {},
     "output_type": "display_data"
    },
    {
     "name": "stdout",
     "output_type": "stream",
     "text": [
      "Harry Potter and the Order of the Phoenix (Book 5)\n"
     ]
    },
    {
     "data": {
      "text/html": [
       "<img src=\"http://images.amazon.com/images/P/0439136369.01.MZZZZZZZ.jpg\"/>"
      ],
      "text/plain": [
       "<IPython.core.display.Image object>"
      ]
     },
     "metadata": {},
     "output_type": "display_data"
    },
    {
     "name": "stdout",
     "output_type": "stream",
     "text": [
      "Harry Potter and the Prisoner of Azkaban (Book 3)\n"
     ]
    },
    {
     "data": {
      "text/html": [
       "<img src=\"http://images.amazon.com/images/P/059035342X.01.MZZZZZZZ.jpg\"/>"
      ],
      "text/plain": [
       "<IPython.core.display.Image object>"
      ]
     },
     "metadata": {},
     "output_type": "display_data"
    },
    {
     "name": "stdout",
     "output_type": "stream",
     "text": [
      "Harry Potter and the Sorcerer's Stone (Harry Potter (Paperback))\n"
     ]
    },
    {
     "data": {
      "text/html": [
       "<img src=\"http://images.amazon.com/images/P/0439136350.01.MZZZZZZZ.jpg\"/>"
      ],
      "text/plain": [
       "<IPython.core.display.Image object>"
      ]
     },
     "metadata": {},
     "output_type": "display_data"
    },
    {
     "name": "stdout",
     "output_type": "stream",
     "text": [
      "Harry Potter and the Prisoner of Azkaban (Book 3)\n"
     ]
    },
    {
     "data": {
      "text/html": [
       "<img src=\"http://images.amazon.com/images/P/0446310786.01.MZZZZZZZ.jpg\"/>"
      ],
      "text/plain": [
       "<IPython.core.display.Image object>"
      ]
     },
     "metadata": {},
     "output_type": "display_data"
    },
    {
     "name": "stdout",
     "output_type": "stream",
     "text": [
      "To Kill a Mockingbird\n"
     ]
    },
    {
     "data": {
      "text/html": [
       "<img src=\"http://images.amazon.com/images/P/0345339711.01.MZZZZZZZ.jpg\"/>"
      ],
      "text/plain": [
       "<IPython.core.display.Image object>"
      ]
     },
     "metadata": {},
     "output_type": "display_data"
    },
    {
     "name": "stdout",
     "output_type": "stream",
     "text": [
      "The Two Towers (The Lord of the Rings, Part 2)\n"
     ]
    },
    {
     "data": {
      "text/html": [
       "<img src=\"http://images.amazon.com/images/P/0590353403.01.MZZZZZZZ.jpg\"/>"
      ],
      "text/plain": [
       "<IPython.core.display.Image object>"
      ]
     },
     "metadata": {},
     "output_type": "display_data"
    },
    {
     "name": "stdout",
     "output_type": "stream",
     "text": [
      "Harry Potter and the Sorcerer's Stone (Book 1)\n"
     ]
    },
    {
     "data": {
      "text/html": [
       "<img src=\"http://images.amazon.com/images/P/0439425220.01.MZZZZZZZ.jpg\"/>"
      ],
      "text/plain": [
       "<IPython.core.display.Image object>"
      ]
     },
     "metadata": {},
     "output_type": "display_data"
    },
    {
     "name": "stdout",
     "output_type": "stream",
     "text": [
      "Harry Potter and the Chamber of Secrets Postcard Book\n"
     ]
    }
   ],
   "source": [
    "#show image of the book cover\n",
    "\n",
    "from IPython.display import Image\n",
    "\n",
    "for i in l:\n",
    "    display(Image(url=books[books[\"ISBN\"] == i][\"imageURLM\"].values[0]))\n",
    "    print(books[books[\"ISBN\"] == i][\"bookTitle\"].values[0])"
   ]
  },
  {
   "cell_type": "markdown",
   "id": "655ca29c",
   "metadata": {},
   "source": [
    "Collaborative Filtering\n",
    "A recommendation technique that leverages the collective behavior and preferences of users to make personalized recommendations.\n",
    "\n",
    "Steps involved in collaborative filtering:\n",
    "\n",
    "Data representation: Create a table with users as rows and items (ISBNs) as columns to capture user-item interactions or ratings.\n",
    "\n",
    "Standardization: Normalize the ratings within each user to remove biases and bring them to a common scale.\n",
    "\n",
    "Similarity calculation: Compute item-item similarity using metrics like cosine similarity based on user ratings or interactions.\n",
    "\n",
    "Recommendation generation: Find the most similar items to a given item and recommend them to users who have interacted with the original item.\n",
    "\n",
    "Collaborative filtering taps into the idea that users with similar tastes for certain items are likely to have similar tastes for other items, providing personalized recommendations based on user behavior and preferences."
   ]
  },
  {
   "cell_type": "code",
   "execution_count": 17,
   "id": "8b29af81",
   "metadata": {},
   "outputs": [],
   "source": [
    "# list of top 600 books according to no. of people who rated it\n",
    "\n",
    "top_600 = avg_rating.sort_values(\"num_ratings\", ascending=False).head(1000)[\"ISBN\"].values"
   ]
  },
  {
   "cell_type": "code",
   "execution_count": 18,
   "id": "10a82017",
   "metadata": {},
   "outputs": [],
   "source": [
    "top_600 = set(top_600)\n",
    "\n",
    "# removing all the books that are not in the top 600\n",
    "\n",
    "new_ratings = ratings[ratings[\"ISBN\"].isin(top_600)]"
   ]
  },
  {
   "cell_type": "code",
   "execution_count": 19,
   "id": "3ddf1119",
   "metadata": {},
   "outputs": [],
   "source": [
    "# make a dataframe in which the index is ISBN and the columns are the userIDs and the values are the ratings given by the user\n",
    "\n",
    "new_ratings = new_ratings.pivot(index=\"User-ID\", columns=\"ISBN\", values=\"bookRating\")"
   ]
  },
  {
   "cell_type": "code",
   "execution_count": 20,
   "id": "9a3e67a2",
   "metadata": {},
   "outputs": [],
   "source": [
    "new_ratings.fillna(0, inplace=True)"
   ]
  },
  {
   "cell_type": "code",
   "execution_count": 21,
   "id": "9eabcbd4",
   "metadata": {},
   "outputs": [
    {
     "data": {
      "text/html": [
       "<div>\n",
       "<style scoped>\n",
       "    .dataframe tbody tr th:only-of-type {\n",
       "        vertical-align: middle;\n",
       "    }\n",
       "\n",
       "    .dataframe tbody tr th {\n",
       "        vertical-align: top;\n",
       "    }\n",
       "\n",
       "    .dataframe thead th {\n",
       "        text-align: right;\n",
       "    }\n",
       "</style>\n",
       "<table border=\"1\" class=\"dataframe\">\n",
       "  <thead>\n",
       "    <tr style=\"text-align: right;\">\n",
       "      <th>ISBN</th>\n",
       "      <th>000649840X</th>\n",
       "      <th>002542730X</th>\n",
       "      <th>0028604199</th>\n",
       "      <th>006000438X</th>\n",
       "      <th>0060008032</th>\n",
       "      <th>0060096195</th>\n",
       "      <th>006016848X</th>\n",
       "      <th>0060173289</th>\n",
       "      <th>0060175400</th>\n",
       "      <th>0060175966</th>\n",
       "      <th>...</th>\n",
       "      <th>1592400876</th>\n",
       "      <th>1844262553</th>\n",
       "      <th>1857022424</th>\n",
       "      <th>1878424319</th>\n",
       "      <th>1931561648</th>\n",
       "      <th>3257229534</th>\n",
       "      <th>3404148665</th>\n",
       "      <th>3423202327</th>\n",
       "      <th>3442541751</th>\n",
       "      <th>3492045170</th>\n",
       "    </tr>\n",
       "    <tr>\n",
       "      <th>User-ID</th>\n",
       "      <th></th>\n",
       "      <th></th>\n",
       "      <th></th>\n",
       "      <th></th>\n",
       "      <th></th>\n",
       "      <th></th>\n",
       "      <th></th>\n",
       "      <th></th>\n",
       "      <th></th>\n",
       "      <th></th>\n",
       "      <th></th>\n",
       "      <th></th>\n",
       "      <th></th>\n",
       "      <th></th>\n",
       "      <th></th>\n",
       "      <th></th>\n",
       "      <th></th>\n",
       "      <th></th>\n",
       "      <th></th>\n",
       "      <th></th>\n",
       "      <th></th>\n",
       "    </tr>\n",
       "  </thead>\n",
       "  <tbody>\n",
       "    <tr>\n",
       "      <th>9</th>\n",
       "      <td>0.0</td>\n",
       "      <td>0.0</td>\n",
       "      <td>0.0</td>\n",
       "      <td>0.0</td>\n",
       "      <td>0.0</td>\n",
       "      <td>0.0</td>\n",
       "      <td>0.0</td>\n",
       "      <td>0.0</td>\n",
       "      <td>0.0</td>\n",
       "      <td>0.0</td>\n",
       "      <td>...</td>\n",
       "      <td>0.0</td>\n",
       "      <td>0.0</td>\n",
       "      <td>0.0</td>\n",
       "      <td>0.0</td>\n",
       "      <td>0.0</td>\n",
       "      <td>0.0</td>\n",
       "      <td>0.0</td>\n",
       "      <td>0.0</td>\n",
       "      <td>0.0</td>\n",
       "      <td>0.0</td>\n",
       "    </tr>\n",
       "    <tr>\n",
       "      <th>16</th>\n",
       "      <td>0.0</td>\n",
       "      <td>0.0</td>\n",
       "      <td>0.0</td>\n",
       "      <td>0.0</td>\n",
       "      <td>0.0</td>\n",
       "      <td>0.0</td>\n",
       "      <td>0.0</td>\n",
       "      <td>0.0</td>\n",
       "      <td>0.0</td>\n",
       "      <td>0.0</td>\n",
       "      <td>...</td>\n",
       "      <td>0.0</td>\n",
       "      <td>0.0</td>\n",
       "      <td>0.0</td>\n",
       "      <td>0.0</td>\n",
       "      <td>0.0</td>\n",
       "      <td>0.0</td>\n",
       "      <td>0.0</td>\n",
       "      <td>0.0</td>\n",
       "      <td>0.0</td>\n",
       "      <td>0.0</td>\n",
       "    </tr>\n",
       "    <tr>\n",
       "      <th>26</th>\n",
       "      <td>0.0</td>\n",
       "      <td>0.0</td>\n",
       "      <td>0.0</td>\n",
       "      <td>0.0</td>\n",
       "      <td>0.0</td>\n",
       "      <td>0.0</td>\n",
       "      <td>0.0</td>\n",
       "      <td>0.0</td>\n",
       "      <td>0.0</td>\n",
       "      <td>0.0</td>\n",
       "      <td>...</td>\n",
       "      <td>0.0</td>\n",
       "      <td>0.0</td>\n",
       "      <td>0.0</td>\n",
       "      <td>0.0</td>\n",
       "      <td>0.0</td>\n",
       "      <td>0.0</td>\n",
       "      <td>0.0</td>\n",
       "      <td>0.0</td>\n",
       "      <td>0.0</td>\n",
       "      <td>0.0</td>\n",
       "    </tr>\n",
       "    <tr>\n",
       "      <th>39</th>\n",
       "      <td>0.0</td>\n",
       "      <td>0.0</td>\n",
       "      <td>0.0</td>\n",
       "      <td>0.0</td>\n",
       "      <td>0.0</td>\n",
       "      <td>0.0</td>\n",
       "      <td>0.0</td>\n",
       "      <td>0.0</td>\n",
       "      <td>0.0</td>\n",
       "      <td>0.0</td>\n",
       "      <td>...</td>\n",
       "      <td>0.0</td>\n",
       "      <td>0.0</td>\n",
       "      <td>0.0</td>\n",
       "      <td>0.0</td>\n",
       "      <td>0.0</td>\n",
       "      <td>0.0</td>\n",
       "      <td>0.0</td>\n",
       "      <td>0.0</td>\n",
       "      <td>0.0</td>\n",
       "      <td>0.0</td>\n",
       "    </tr>\n",
       "    <tr>\n",
       "      <th>42</th>\n",
       "      <td>0.0</td>\n",
       "      <td>0.0</td>\n",
       "      <td>0.0</td>\n",
       "      <td>0.0</td>\n",
       "      <td>0.0</td>\n",
       "      <td>0.0</td>\n",
       "      <td>0.0</td>\n",
       "      <td>0.0</td>\n",
       "      <td>0.0</td>\n",
       "      <td>0.0</td>\n",
       "      <td>...</td>\n",
       "      <td>0.0</td>\n",
       "      <td>0.0</td>\n",
       "      <td>0.0</td>\n",
       "      <td>0.0</td>\n",
       "      <td>0.0</td>\n",
       "      <td>0.0</td>\n",
       "      <td>0.0</td>\n",
       "      <td>0.0</td>\n",
       "      <td>0.0</td>\n",
       "      <td>0.0</td>\n",
       "    </tr>\n",
       "  </tbody>\n",
       "</table>\n",
       "<p>5 rows × 1000 columns</p>\n",
       "</div>"
      ],
      "text/plain": [
       "ISBN     000649840X  002542730X  0028604199  006000438X  0060008032  \\\n",
       "User-ID                                                               \n",
       "9               0.0         0.0         0.0         0.0         0.0   \n",
       "16              0.0         0.0         0.0         0.0         0.0   \n",
       "26              0.0         0.0         0.0         0.0         0.0   \n",
       "39              0.0         0.0         0.0         0.0         0.0   \n",
       "42              0.0         0.0         0.0         0.0         0.0   \n",
       "\n",
       "ISBN     0060096195  006016848X  0060173289  0060175400  0060175966  ...  \\\n",
       "User-ID                                                              ...   \n",
       "9               0.0         0.0         0.0         0.0         0.0  ...   \n",
       "16              0.0         0.0         0.0         0.0         0.0  ...   \n",
       "26              0.0         0.0         0.0         0.0         0.0  ...   \n",
       "39              0.0         0.0         0.0         0.0         0.0  ...   \n",
       "42              0.0         0.0         0.0         0.0         0.0  ...   \n",
       "\n",
       "ISBN     1592400876  1844262553  1857022424  1878424319  1931561648  \\\n",
       "User-ID                                                               \n",
       "9               0.0         0.0         0.0         0.0         0.0   \n",
       "16              0.0         0.0         0.0         0.0         0.0   \n",
       "26              0.0         0.0         0.0         0.0         0.0   \n",
       "39              0.0         0.0         0.0         0.0         0.0   \n",
       "42              0.0         0.0         0.0         0.0         0.0   \n",
       "\n",
       "ISBN     3257229534  3404148665  3423202327  3442541751  3492045170  \n",
       "User-ID                                                              \n",
       "9               0.0         0.0         0.0         0.0         0.0  \n",
       "16              0.0         0.0         0.0         0.0         0.0  \n",
       "26              0.0         0.0         0.0         0.0         0.0  \n",
       "39              0.0         0.0         0.0         0.0         0.0  \n",
       "42              0.0         0.0         0.0         0.0         0.0  \n",
       "\n",
       "[5 rows x 1000 columns]"
      ]
     },
     "execution_count": 21,
     "metadata": {},
     "output_type": "execute_result"
    }
   ],
   "source": [
    "new_ratings.head()"
   ]
  },
  {
   "cell_type": "code",
   "execution_count": 22,
   "id": "b220eed1",
   "metadata": {},
   "outputs": [],
   "source": [
    "# standardizing the ratings so that the mean of each row is 0 and the values are between -1 and 1\n",
    "\n",
    "def standardize(row):\n",
    "    new_row = (row - row.mean())/(row.max() - row.min())\n",
    "    return new_row\n",
    "\n",
    "new_ratings = new_ratings.apply(standardize)"
   ]
  },
  {
   "cell_type": "code",
   "execution_count": 23,
   "id": "a1016d00",
   "metadata": {},
   "outputs": [
    {
     "data": {
      "text/html": [
       "<div>\n",
       "<style scoped>\n",
       "    .dataframe tbody tr th:only-of-type {\n",
       "        vertical-align: middle;\n",
       "    }\n",
       "\n",
       "    .dataframe tbody tr th {\n",
       "        vertical-align: top;\n",
       "    }\n",
       "\n",
       "    .dataframe thead th {\n",
       "        text-align: right;\n",
       "    }\n",
       "</style>\n",
       "<table border=\"1\" class=\"dataframe\">\n",
       "  <thead>\n",
       "    <tr style=\"text-align: right;\">\n",
       "      <th>ISBN</th>\n",
       "      <th>000649840X</th>\n",
       "      <th>002542730X</th>\n",
       "      <th>0028604199</th>\n",
       "      <th>006000438X</th>\n",
       "      <th>0060008032</th>\n",
       "      <th>0060096195</th>\n",
       "      <th>006016848X</th>\n",
       "      <th>0060173289</th>\n",
       "      <th>0060175400</th>\n",
       "      <th>0060175966</th>\n",
       "      <th>...</th>\n",
       "      <th>1592400876</th>\n",
       "      <th>1844262553</th>\n",
       "      <th>1857022424</th>\n",
       "      <th>1878424319</th>\n",
       "      <th>1931561648</th>\n",
       "      <th>3257229534</th>\n",
       "      <th>3404148665</th>\n",
       "      <th>3423202327</th>\n",
       "      <th>3442541751</th>\n",
       "      <th>3492045170</th>\n",
       "    </tr>\n",
       "    <tr>\n",
       "      <th>User-ID</th>\n",
       "      <th></th>\n",
       "      <th></th>\n",
       "      <th></th>\n",
       "      <th></th>\n",
       "      <th></th>\n",
       "      <th></th>\n",
       "      <th></th>\n",
       "      <th></th>\n",
       "      <th></th>\n",
       "      <th></th>\n",
       "      <th></th>\n",
       "      <th></th>\n",
       "      <th></th>\n",
       "      <th></th>\n",
       "      <th></th>\n",
       "      <th></th>\n",
       "      <th></th>\n",
       "      <th></th>\n",
       "      <th></th>\n",
       "      <th></th>\n",
       "      <th></th>\n",
       "    </tr>\n",
       "  </thead>\n",
       "  <tbody>\n",
       "    <tr>\n",
       "      <th>9</th>\n",
       "      <td>-0.001247</td>\n",
       "      <td>-0.002357</td>\n",
       "      <td>-0.001024</td>\n",
       "      <td>-0.001004</td>\n",
       "      <td>-0.000996</td>\n",
       "      <td>-0.00169</td>\n",
       "      <td>-0.001553</td>\n",
       "      <td>-0.001761</td>\n",
       "      <td>-0.002565</td>\n",
       "      <td>-0.001086</td>\n",
       "      <td>...</td>\n",
       "      <td>-0.001867</td>\n",
       "      <td>-0.001686</td>\n",
       "      <td>-0.001075</td>\n",
       "      <td>-0.001824</td>\n",
       "      <td>-0.001235</td>\n",
       "      <td>-0.000988</td>\n",
       "      <td>-0.001098</td>\n",
       "      <td>-0.001063</td>\n",
       "      <td>-0.000953</td>\n",
       "      <td>-0.001059</td>\n",
       "    </tr>\n",
       "    <tr>\n",
       "      <th>16</th>\n",
       "      <td>-0.001247</td>\n",
       "      <td>-0.002357</td>\n",
       "      <td>-0.001024</td>\n",
       "      <td>-0.001004</td>\n",
       "      <td>-0.000996</td>\n",
       "      <td>-0.00169</td>\n",
       "      <td>-0.001553</td>\n",
       "      <td>-0.001761</td>\n",
       "      <td>-0.002565</td>\n",
       "      <td>-0.001086</td>\n",
       "      <td>...</td>\n",
       "      <td>-0.001867</td>\n",
       "      <td>-0.001686</td>\n",
       "      <td>-0.001075</td>\n",
       "      <td>-0.001824</td>\n",
       "      <td>-0.001235</td>\n",
       "      <td>-0.000988</td>\n",
       "      <td>-0.001098</td>\n",
       "      <td>-0.001063</td>\n",
       "      <td>-0.000953</td>\n",
       "      <td>-0.001059</td>\n",
       "    </tr>\n",
       "    <tr>\n",
       "      <th>26</th>\n",
       "      <td>-0.001247</td>\n",
       "      <td>-0.002357</td>\n",
       "      <td>-0.001024</td>\n",
       "      <td>-0.001004</td>\n",
       "      <td>-0.000996</td>\n",
       "      <td>-0.00169</td>\n",
       "      <td>-0.001553</td>\n",
       "      <td>-0.001761</td>\n",
       "      <td>-0.002565</td>\n",
       "      <td>-0.001086</td>\n",
       "      <td>...</td>\n",
       "      <td>-0.001867</td>\n",
       "      <td>-0.001686</td>\n",
       "      <td>-0.001075</td>\n",
       "      <td>-0.001824</td>\n",
       "      <td>-0.001235</td>\n",
       "      <td>-0.000988</td>\n",
       "      <td>-0.001098</td>\n",
       "      <td>-0.001063</td>\n",
       "      <td>-0.000953</td>\n",
       "      <td>-0.001059</td>\n",
       "    </tr>\n",
       "    <tr>\n",
       "      <th>39</th>\n",
       "      <td>-0.001247</td>\n",
       "      <td>-0.002357</td>\n",
       "      <td>-0.001024</td>\n",
       "      <td>-0.001004</td>\n",
       "      <td>-0.000996</td>\n",
       "      <td>-0.00169</td>\n",
       "      <td>-0.001553</td>\n",
       "      <td>-0.001761</td>\n",
       "      <td>-0.002565</td>\n",
       "      <td>-0.001086</td>\n",
       "      <td>...</td>\n",
       "      <td>-0.001867</td>\n",
       "      <td>-0.001686</td>\n",
       "      <td>-0.001075</td>\n",
       "      <td>-0.001824</td>\n",
       "      <td>-0.001235</td>\n",
       "      <td>-0.000988</td>\n",
       "      <td>-0.001098</td>\n",
       "      <td>-0.001063</td>\n",
       "      <td>-0.000953</td>\n",
       "      <td>-0.001059</td>\n",
       "    </tr>\n",
       "    <tr>\n",
       "      <th>42</th>\n",
       "      <td>-0.001247</td>\n",
       "      <td>-0.002357</td>\n",
       "      <td>-0.001024</td>\n",
       "      <td>-0.001004</td>\n",
       "      <td>-0.000996</td>\n",
       "      <td>-0.00169</td>\n",
       "      <td>-0.001553</td>\n",
       "      <td>-0.001761</td>\n",
       "      <td>-0.002565</td>\n",
       "      <td>-0.001086</td>\n",
       "      <td>...</td>\n",
       "      <td>-0.001867</td>\n",
       "      <td>-0.001686</td>\n",
       "      <td>-0.001075</td>\n",
       "      <td>-0.001824</td>\n",
       "      <td>-0.001235</td>\n",
       "      <td>-0.000988</td>\n",
       "      <td>-0.001098</td>\n",
       "      <td>-0.001063</td>\n",
       "      <td>-0.000953</td>\n",
       "      <td>-0.001059</td>\n",
       "    </tr>\n",
       "    <tr>\n",
       "      <th>...</th>\n",
       "      <td>...</td>\n",
       "      <td>...</td>\n",
       "      <td>...</td>\n",
       "      <td>...</td>\n",
       "      <td>...</td>\n",
       "      <td>...</td>\n",
       "      <td>...</td>\n",
       "      <td>...</td>\n",
       "      <td>...</td>\n",
       "      <td>...</td>\n",
       "      <td>...</td>\n",
       "      <td>...</td>\n",
       "      <td>...</td>\n",
       "      <td>...</td>\n",
       "      <td>...</td>\n",
       "      <td>...</td>\n",
       "      <td>...</td>\n",
       "      <td>...</td>\n",
       "      <td>...</td>\n",
       "      <td>...</td>\n",
       "      <td>...</td>\n",
       "    </tr>\n",
       "    <tr>\n",
       "      <th>278836</th>\n",
       "      <td>-0.001247</td>\n",
       "      <td>-0.002357</td>\n",
       "      <td>-0.001024</td>\n",
       "      <td>-0.001004</td>\n",
       "      <td>-0.000996</td>\n",
       "      <td>-0.00169</td>\n",
       "      <td>-0.001553</td>\n",
       "      <td>-0.001761</td>\n",
       "      <td>-0.002565</td>\n",
       "      <td>-0.001086</td>\n",
       "      <td>...</td>\n",
       "      <td>-0.001867</td>\n",
       "      <td>-0.001686</td>\n",
       "      <td>-0.001075</td>\n",
       "      <td>-0.001824</td>\n",
       "      <td>-0.001235</td>\n",
       "      <td>-0.000988</td>\n",
       "      <td>-0.001098</td>\n",
       "      <td>-0.001063</td>\n",
       "      <td>-0.000953</td>\n",
       "      <td>-0.001059</td>\n",
       "    </tr>\n",
       "    <tr>\n",
       "      <th>278843</th>\n",
       "      <td>-0.001247</td>\n",
       "      <td>-0.002357</td>\n",
       "      <td>-0.001024</td>\n",
       "      <td>-0.001004</td>\n",
       "      <td>-0.000996</td>\n",
       "      <td>-0.00169</td>\n",
       "      <td>-0.001553</td>\n",
       "      <td>0.898239</td>\n",
       "      <td>-0.002565</td>\n",
       "      <td>-0.001086</td>\n",
       "      <td>...</td>\n",
       "      <td>-0.001867</td>\n",
       "      <td>-0.001686</td>\n",
       "      <td>-0.001075</td>\n",
       "      <td>-0.001824</td>\n",
       "      <td>-0.001235</td>\n",
       "      <td>-0.000988</td>\n",
       "      <td>-0.001098</td>\n",
       "      <td>-0.001063</td>\n",
       "      <td>-0.000953</td>\n",
       "      <td>-0.001059</td>\n",
       "    </tr>\n",
       "    <tr>\n",
       "      <th>278844</th>\n",
       "      <td>-0.001247</td>\n",
       "      <td>-0.002357</td>\n",
       "      <td>-0.001024</td>\n",
       "      <td>-0.001004</td>\n",
       "      <td>-0.000996</td>\n",
       "      <td>-0.00169</td>\n",
       "      <td>-0.001553</td>\n",
       "      <td>-0.001761</td>\n",
       "      <td>-0.002565</td>\n",
       "      <td>-0.001086</td>\n",
       "      <td>...</td>\n",
       "      <td>-0.001867</td>\n",
       "      <td>-0.001686</td>\n",
       "      <td>-0.001075</td>\n",
       "      <td>-0.001824</td>\n",
       "      <td>-0.001235</td>\n",
       "      <td>-0.000988</td>\n",
       "      <td>-0.001098</td>\n",
       "      <td>-0.001063</td>\n",
       "      <td>-0.000953</td>\n",
       "      <td>-0.001059</td>\n",
       "    </tr>\n",
       "    <tr>\n",
       "      <th>278851</th>\n",
       "      <td>-0.001247</td>\n",
       "      <td>-0.002357</td>\n",
       "      <td>-0.001024</td>\n",
       "      <td>-0.001004</td>\n",
       "      <td>-0.000996</td>\n",
       "      <td>-0.00169</td>\n",
       "      <td>-0.001553</td>\n",
       "      <td>-0.001761</td>\n",
       "      <td>-0.002565</td>\n",
       "      <td>-0.001086</td>\n",
       "      <td>...</td>\n",
       "      <td>-0.001867</td>\n",
       "      <td>-0.001686</td>\n",
       "      <td>-0.001075</td>\n",
       "      <td>-0.001824</td>\n",
       "      <td>-0.001235</td>\n",
       "      <td>-0.000988</td>\n",
       "      <td>-0.001098</td>\n",
       "      <td>-0.001063</td>\n",
       "      <td>-0.000953</td>\n",
       "      <td>-0.001059</td>\n",
       "    </tr>\n",
       "    <tr>\n",
       "      <th>278854</th>\n",
       "      <td>-0.001247</td>\n",
       "      <td>-0.002357</td>\n",
       "      <td>-0.001024</td>\n",
       "      <td>-0.001004</td>\n",
       "      <td>-0.000996</td>\n",
       "      <td>-0.00169</td>\n",
       "      <td>-0.001553</td>\n",
       "      <td>-0.001761</td>\n",
       "      <td>-0.002565</td>\n",
       "      <td>-0.001086</td>\n",
       "      <td>...</td>\n",
       "      <td>-0.001867</td>\n",
       "      <td>-0.001686</td>\n",
       "      <td>-0.001075</td>\n",
       "      <td>-0.001824</td>\n",
       "      <td>-0.001235</td>\n",
       "      <td>-0.000988</td>\n",
       "      <td>-0.001098</td>\n",
       "      <td>-0.001063</td>\n",
       "      <td>-0.000953</td>\n",
       "      <td>-0.001059</td>\n",
       "    </tr>\n",
       "  </tbody>\n",
       "</table>\n",
       "<p>25497 rows × 1000 columns</p>\n",
       "</div>"
      ],
      "text/plain": [
       "ISBN     000649840X  002542730X  0028604199  006000438X  0060008032  \\\n",
       "User-ID                                                               \n",
       "9         -0.001247   -0.002357   -0.001024   -0.001004   -0.000996   \n",
       "16        -0.001247   -0.002357   -0.001024   -0.001004   -0.000996   \n",
       "26        -0.001247   -0.002357   -0.001024   -0.001004   -0.000996   \n",
       "39        -0.001247   -0.002357   -0.001024   -0.001004   -0.000996   \n",
       "42        -0.001247   -0.002357   -0.001024   -0.001004   -0.000996   \n",
       "...             ...         ...         ...         ...         ...   \n",
       "278836    -0.001247   -0.002357   -0.001024   -0.001004   -0.000996   \n",
       "278843    -0.001247   -0.002357   -0.001024   -0.001004   -0.000996   \n",
       "278844    -0.001247   -0.002357   -0.001024   -0.001004   -0.000996   \n",
       "278851    -0.001247   -0.002357   -0.001024   -0.001004   -0.000996   \n",
       "278854    -0.001247   -0.002357   -0.001024   -0.001004   -0.000996   \n",
       "\n",
       "ISBN     0060096195  006016848X  0060173289  0060175400  0060175966  ...  \\\n",
       "User-ID                                                              ...   \n",
       "9          -0.00169   -0.001553   -0.001761   -0.002565   -0.001086  ...   \n",
       "16         -0.00169   -0.001553   -0.001761   -0.002565   -0.001086  ...   \n",
       "26         -0.00169   -0.001553   -0.001761   -0.002565   -0.001086  ...   \n",
       "39         -0.00169   -0.001553   -0.001761   -0.002565   -0.001086  ...   \n",
       "42         -0.00169   -0.001553   -0.001761   -0.002565   -0.001086  ...   \n",
       "...             ...         ...         ...         ...         ...  ...   \n",
       "278836     -0.00169   -0.001553   -0.001761   -0.002565   -0.001086  ...   \n",
       "278843     -0.00169   -0.001553    0.898239   -0.002565   -0.001086  ...   \n",
       "278844     -0.00169   -0.001553   -0.001761   -0.002565   -0.001086  ...   \n",
       "278851     -0.00169   -0.001553   -0.001761   -0.002565   -0.001086  ...   \n",
       "278854     -0.00169   -0.001553   -0.001761   -0.002565   -0.001086  ...   \n",
       "\n",
       "ISBN     1592400876  1844262553  1857022424  1878424319  1931561648  \\\n",
       "User-ID                                                               \n",
       "9         -0.001867   -0.001686   -0.001075   -0.001824   -0.001235   \n",
       "16        -0.001867   -0.001686   -0.001075   -0.001824   -0.001235   \n",
       "26        -0.001867   -0.001686   -0.001075   -0.001824   -0.001235   \n",
       "39        -0.001867   -0.001686   -0.001075   -0.001824   -0.001235   \n",
       "42        -0.001867   -0.001686   -0.001075   -0.001824   -0.001235   \n",
       "...             ...         ...         ...         ...         ...   \n",
       "278836    -0.001867   -0.001686   -0.001075   -0.001824   -0.001235   \n",
       "278843    -0.001867   -0.001686   -0.001075   -0.001824   -0.001235   \n",
       "278844    -0.001867   -0.001686   -0.001075   -0.001824   -0.001235   \n",
       "278851    -0.001867   -0.001686   -0.001075   -0.001824   -0.001235   \n",
       "278854    -0.001867   -0.001686   -0.001075   -0.001824   -0.001235   \n",
       "\n",
       "ISBN     3257229534  3404148665  3423202327  3442541751  3492045170  \n",
       "User-ID                                                              \n",
       "9         -0.000988   -0.001098   -0.001063   -0.000953   -0.001059  \n",
       "16        -0.000988   -0.001098   -0.001063   -0.000953   -0.001059  \n",
       "26        -0.000988   -0.001098   -0.001063   -0.000953   -0.001059  \n",
       "39        -0.000988   -0.001098   -0.001063   -0.000953   -0.001059  \n",
       "42        -0.000988   -0.001098   -0.001063   -0.000953   -0.001059  \n",
       "...             ...         ...         ...         ...         ...  \n",
       "278836    -0.000988   -0.001098   -0.001063   -0.000953   -0.001059  \n",
       "278843    -0.000988   -0.001098   -0.001063   -0.000953   -0.001059  \n",
       "278844    -0.000988   -0.001098   -0.001063   -0.000953   -0.001059  \n",
       "278851    -0.000988   -0.001098   -0.001063   -0.000953   -0.001059  \n",
       "278854    -0.000988   -0.001098   -0.001063   -0.000953   -0.001059  \n",
       "\n",
       "[25497 rows x 1000 columns]"
      ]
     },
     "execution_count": 23,
     "metadata": {},
     "output_type": "execute_result"
    }
   ],
   "source": [
    "\n",
    "new_ratings"
   ]
  },
  {
   "cell_type": "code",
   "execution_count": 26,
   "id": "3f99e102",
   "metadata": {},
   "outputs": [],
   "source": [
    "from sklearn.metrics.pairwise import cosine_similarity\n",
    "# making a matrix in which the index and columns are the ISBNs and the values are the similarity between the two books\n",
    "\n",
    "item_similarity = cosine_similarity(new_ratings.T)  # .T is used to transpose the matrix because we want the similarity between the ISBNs and not the users."
   ]
  },
  {
   "cell_type": "code",
   "execution_count": 28,
   "id": "13dc089b",
   "metadata": {},
   "outputs": [
    {
     "data": {
      "text/html": [
       "<div>\n",
       "<style scoped>\n",
       "    .dataframe tbody tr th:only-of-type {\n",
       "        vertical-align: middle;\n",
       "    }\n",
       "\n",
       "    .dataframe tbody tr th {\n",
       "        vertical-align: top;\n",
       "    }\n",
       "\n",
       "    .dataframe thead th {\n",
       "        text-align: right;\n",
       "    }\n",
       "</style>\n",
       "<table border=\"1\" class=\"dataframe\">\n",
       "  <thead>\n",
       "    <tr style=\"text-align: right;\">\n",
       "      <th>ISBN</th>\n",
       "      <th>000649840X</th>\n",
       "      <th>002542730X</th>\n",
       "      <th>0028604199</th>\n",
       "      <th>006000438X</th>\n",
       "      <th>0060008032</th>\n",
       "      <th>0060096195</th>\n",
       "      <th>006016848X</th>\n",
       "      <th>0060173289</th>\n",
       "      <th>0060175400</th>\n",
       "      <th>0060175966</th>\n",
       "      <th>...</th>\n",
       "      <th>1592400876</th>\n",
       "      <th>1844262553</th>\n",
       "      <th>1857022424</th>\n",
       "      <th>1878424319</th>\n",
       "      <th>1931561648</th>\n",
       "      <th>3257229534</th>\n",
       "      <th>3404148665</th>\n",
       "      <th>3423202327</th>\n",
       "      <th>3442541751</th>\n",
       "      <th>3492045170</th>\n",
       "    </tr>\n",
       "    <tr>\n",
       "      <th>ISBN</th>\n",
       "      <th></th>\n",
       "      <th></th>\n",
       "      <th></th>\n",
       "      <th></th>\n",
       "      <th></th>\n",
       "      <th></th>\n",
       "      <th></th>\n",
       "      <th></th>\n",
       "      <th></th>\n",
       "      <th></th>\n",
       "      <th></th>\n",
       "      <th></th>\n",
       "      <th></th>\n",
       "      <th></th>\n",
       "      <th></th>\n",
       "      <th></th>\n",
       "      <th></th>\n",
       "      <th></th>\n",
       "      <th></th>\n",
       "      <th></th>\n",
       "      <th></th>\n",
       "    </tr>\n",
       "  </thead>\n",
       "  <tbody>\n",
       "    <tr>\n",
       "      <th>000649840X</th>\n",
       "      <td>1.000000</td>\n",
       "      <td>0.057869</td>\n",
       "      <td>-0.001379</td>\n",
       "      <td>0.066046</td>\n",
       "      <td>0.027202</td>\n",
       "      <td>-0.001766</td>\n",
       "      <td>0.042188</td>\n",
       "      <td>-0.001828</td>\n",
       "      <td>0.018715</td>\n",
       "      <td>-0.001409</td>\n",
       "      <td>...</td>\n",
       "      <td>0.020248</td>\n",
       "      <td>0.018746</td>\n",
       "      <td>0.055158</td>\n",
       "      <td>0.013703</td>\n",
       "      <td>0.028201</td>\n",
       "      <td>-0.001350</td>\n",
       "      <td>0.030416</td>\n",
       "      <td>0.025536</td>\n",
       "      <td>0.024753</td>\n",
       "      <td>0.029912</td>\n",
       "    </tr>\n",
       "    <tr>\n",
       "      <th>002542730X</th>\n",
       "      <td>0.057869</td>\n",
       "      <td>1.000000</td>\n",
       "      <td>0.244047</td>\n",
       "      <td>0.009532</td>\n",
       "      <td>0.013646</td>\n",
       "      <td>-0.002424</td>\n",
       "      <td>0.011793</td>\n",
       "      <td>-0.002509</td>\n",
       "      <td>0.022060</td>\n",
       "      <td>-0.001935</td>\n",
       "      <td>...</td>\n",
       "      <td>0.023771</td>\n",
       "      <td>0.008793</td>\n",
       "      <td>0.012553</td>\n",
       "      <td>-0.002525</td>\n",
       "      <td>0.014157</td>\n",
       "      <td>-0.001853</td>\n",
       "      <td>0.015420</td>\n",
       "      <td>0.012732</td>\n",
       "      <td>0.012312</td>\n",
       "      <td>0.015080</td>\n",
       "    </tr>\n",
       "    <tr>\n",
       "      <th>0028604199</th>\n",
       "      <td>-0.001379</td>\n",
       "      <td>0.244047</td>\n",
       "      <td>1.000000</td>\n",
       "      <td>-0.001261</td>\n",
       "      <td>-0.001277</td>\n",
       "      <td>0.021499</td>\n",
       "      <td>-0.001619</td>\n",
       "      <td>-0.001648</td>\n",
       "      <td>0.016111</td>\n",
       "      <td>-0.001271</td>\n",
       "      <td>...</td>\n",
       "      <td>0.022599</td>\n",
       "      <td>-0.001546</td>\n",
       "      <td>-0.001282</td>\n",
       "      <td>-0.001658</td>\n",
       "      <td>-0.001313</td>\n",
       "      <td>-0.001217</td>\n",
       "      <td>-0.001252</td>\n",
       "      <td>-0.001284</td>\n",
       "      <td>-0.001277</td>\n",
       "      <td>-0.001323</td>\n",
       "    </tr>\n",
       "    <tr>\n",
       "      <th>006000438X</th>\n",
       "      <td>0.066046</td>\n",
       "      <td>0.009532</td>\n",
       "      <td>-0.001261</td>\n",
       "      <td>1.000000</td>\n",
       "      <td>0.023071</td>\n",
       "      <td>-0.001614</td>\n",
       "      <td>0.037972</td>\n",
       "      <td>-0.001670</td>\n",
       "      <td>0.015801</td>\n",
       "      <td>0.056602</td>\n",
       "      <td>...</td>\n",
       "      <td>0.017125</td>\n",
       "      <td>0.015853</td>\n",
       "      <td>0.021370</td>\n",
       "      <td>0.013442</td>\n",
       "      <td>0.023919</td>\n",
       "      <td>-0.001234</td>\n",
       "      <td>0.025810</td>\n",
       "      <td>0.021652</td>\n",
       "      <td>0.020986</td>\n",
       "      <td>0.025375</td>\n",
       "    </tr>\n",
       "    <tr>\n",
       "      <th>0060008032</th>\n",
       "      <td>0.027202</td>\n",
       "      <td>0.013646</td>\n",
       "      <td>-0.001277</td>\n",
       "      <td>0.023071</td>\n",
       "      <td>1.000000</td>\n",
       "      <td>0.034914</td>\n",
       "      <td>0.062377</td>\n",
       "      <td>-0.001692</td>\n",
       "      <td>0.022187</td>\n",
       "      <td>-0.001305</td>\n",
       "      <td>...</td>\n",
       "      <td>0.046627</td>\n",
       "      <td>0.022127</td>\n",
       "      <td>0.048832</td>\n",
       "      <td>-0.001703</td>\n",
       "      <td>0.033027</td>\n",
       "      <td>-0.001250</td>\n",
       "      <td>0.035578</td>\n",
       "      <td>0.029930</td>\n",
       "      <td>0.029020</td>\n",
       "      <td>0.035011</td>\n",
       "    </tr>\n",
       "  </tbody>\n",
       "</table>\n",
       "<p>5 rows × 1000 columns</p>\n",
       "</div>"
      ],
      "text/plain": [
       "ISBN        000649840X  002542730X  0028604199  006000438X  0060008032  \\\n",
       "ISBN                                                                     \n",
       "000649840X    1.000000    0.057869   -0.001379    0.066046    0.027202   \n",
       "002542730X    0.057869    1.000000    0.244047    0.009532    0.013646   \n",
       "0028604199   -0.001379    0.244047    1.000000   -0.001261   -0.001277   \n",
       "006000438X    0.066046    0.009532   -0.001261    1.000000    0.023071   \n",
       "0060008032    0.027202    0.013646   -0.001277    0.023071    1.000000   \n",
       "\n",
       "ISBN        0060096195  006016848X  0060173289  0060175400  0060175966  ...  \\\n",
       "ISBN                                                                    ...   \n",
       "000649840X   -0.001766    0.042188   -0.001828    0.018715   -0.001409  ...   \n",
       "002542730X   -0.002424    0.011793   -0.002509    0.022060   -0.001935  ...   \n",
       "0028604199    0.021499   -0.001619   -0.001648    0.016111   -0.001271  ...   \n",
       "006000438X   -0.001614    0.037972   -0.001670    0.015801    0.056602  ...   \n",
       "0060008032    0.034914    0.062377   -0.001692    0.022187   -0.001305  ...   \n",
       "\n",
       "ISBN        1592400876  1844262553  1857022424  1878424319  1931561648  \\\n",
       "ISBN                                                                     \n",
       "000649840X    0.020248    0.018746    0.055158    0.013703    0.028201   \n",
       "002542730X    0.023771    0.008793    0.012553   -0.002525    0.014157   \n",
       "0028604199    0.022599   -0.001546   -0.001282   -0.001658   -0.001313   \n",
       "006000438X    0.017125    0.015853    0.021370    0.013442    0.023919   \n",
       "0060008032    0.046627    0.022127    0.048832   -0.001703    0.033027   \n",
       "\n",
       "ISBN        3257229534  3404148665  3423202327  3442541751  3492045170  \n",
       "ISBN                                                                    \n",
       "000649840X   -0.001350    0.030416    0.025536    0.024753    0.029912  \n",
       "002542730X   -0.001853    0.015420    0.012732    0.012312    0.015080  \n",
       "0028604199   -0.001217   -0.001252   -0.001284   -0.001277   -0.001323  \n",
       "006000438X   -0.001234    0.025810    0.021652    0.020986    0.025375  \n",
       "0060008032   -0.001250    0.035578    0.029930    0.029020    0.035011  \n",
       "\n",
       "[5 rows x 1000 columns]"
      ]
     },
     "execution_count": 28,
     "metadata": {},
     "output_type": "execute_result"
    }
   ],
   "source": [
    "\n",
    "item_similarity_df = pd.DataFrame(item_similarity, index=new_ratings.columns, columns=new_ratings.columns)\n",
    "item_similarity_df.head()"
   ]
  },
  {
   "cell_type": "code",
   "execution_count": 29,
   "id": "4526aa9a",
   "metadata": {},
   "outputs": [],
   "source": [
    "\n",
    "def get_similar_books(book_code, user_rating):\n",
    "    similar_score = item_similarity_df[book_code]*(user_rating-5)\n",
    "    similar_score = similar_score.sort_values(ascending=False)\n",
    "    return similar_score"
   ]
  },
  {
   "cell_type": "markdown",
   "id": "a1964a70",
   "metadata": {},
   "source": [
    "l = get_similar_books(\"059035342X\", 10).head(10)\n",
    "\n",
    "#showing image of the book cover\n",
    "display(Image(url=books[books[\"ISBN\"] == \"059035342X\"][\"imageURLM\"].values[0]))\n",
    "for i in l.index:\n",
    "    display(Image(url=books[books[\"ISBN\"] == i][\"imageURLM\"].values[0]))\n",
    "    print(books[books[\"ISBN\"] == i][\"bookTitle\"].values[0])"
   ]
  },
  {
   "cell_type": "markdown",
   "id": "c8ef95eb",
   "metadata": {},
   "source": [
    "for multiple inputs by a user"
   ]
  },
  {
   "cell_type": "code",
   "execution_count": 34,
   "id": "5345b854",
   "metadata": {},
   "outputs": [],
   "source": [
    "def get_recommendations(book_ratings):\n",
    "    recommendations = pd.Series()  # Empty Series to store the recommendations\n",
    "    \n",
    "    for book, rating in book_ratings.items():\n",
    "        similar_scores = item_similarity_df[book] * (rating - 5)\n",
    "        similar_scores = similar_scores.sort_values(ascending=False)\n",
    "        recommendations = pd.concat([recommendations, similar_scores])\n",
    "        \n",
    "    recommendations = recommendations.groupby(recommendations.index).sum()\n",
    "    recommendations = recommendations.sort_values(ascending=False)\n",
    "    \n",
    "    l = []\n",
    "    for i in recommendations.index:\n",
    "        if i not in book_ratings.keys():\n",
    "            l.append(i)\n",
    "        if len(l)==10:\n",
    "            break\n",
    "\n",
    "    return l"
   ]
  },
  {
   "cell_type": "code",
   "execution_count": 36,
   "id": "b9cbec1f",
   "metadata": {},
   "outputs": [
    {
     "data": {
      "text/html": [
       "<img src=\"http://images.amazon.com/images/P/059035342X.01.MZZZZZZZ.jpg\"/>"
      ],
      "text/plain": [
       "<IPython.core.display.Image object>"
      ]
     },
     "metadata": {},
     "output_type": "display_data"
    },
    {
     "name": "stdout",
     "output_type": "stream",
     "text": [
      "Harry Potter and the Sorcerer's Stone (Harry Potter (Paperback))\n"
     ]
    },
    {
     "data": {
      "text/html": [
       "<img src=\"http://images.amazon.com/images/P/0345370775.01.MZZZZZZZ.jpg\"/>"
      ],
      "text/plain": [
       "<IPython.core.display.Image object>"
      ]
     },
     "metadata": {},
     "output_type": "display_data"
    },
    {
     "name": "stdout",
     "output_type": "stream",
     "text": [
      "Jurassic Park\n"
     ]
    },
    {
     "data": {
      "text/html": [
       "<img src=\"http://images.amazon.com/images/P/044021145X.01.MZZZZZZZ.jpg\"/>"
      ],
      "text/plain": [
       "<IPython.core.display.Image object>"
      ]
     },
     "metadata": {},
     "output_type": "display_data"
    },
    {
     "name": "stdout",
     "output_type": "stream",
     "text": [
      "The Firm\n"
     ]
    },
    {
     "data": {
      "text/html": [
       "<img src=\"http://images.amazon.com/images/P/0440214041.01.MZZZZZZZ.jpg\"/>"
      ],
      "text/plain": [
       "<IPython.core.display.Image object>"
      ]
     },
     "metadata": {},
     "output_type": "display_data"
    },
    {
     "name": "stdout",
     "output_type": "stream",
     "text": [
      "The Pelican Brief\n"
     ]
    },
    {
     "data": {
      "text/html": [
       "<img src=\"http://images.amazon.com/images/P/0440211727.01.MZZZZZZZ.jpg\"/>"
      ],
      "text/plain": [
       "<IPython.core.display.Image object>"
      ]
     },
     "metadata": {},
     "output_type": "display_data"
    },
    {
     "name": "stdout",
     "output_type": "stream",
     "text": [
      "A Time to Kill\n",
      "-------------------------------------------\n"
     ]
    },
    {
     "name": "stderr",
     "output_type": "stream",
     "text": [
      "C:\\Users\\siddh\\AppData\\Local\\Temp\\ipykernel_15368\\624209120.py:7: FutureWarning: The behavior of array concatenation with empty entries is deprecated. In a future version, this will no longer exclude empty items when determining the result dtype. To retain the old behavior, exclude the empty entries before the concat operation.\n",
      "  recommendations = pd.concat([recommendations, similar_scores])\n"
     ]
    },
    {
     "data": {
      "text/html": [
       "<img src=\"http://images.amazon.com/images/P/0440213525.01.MZZZZZZZ.jpg\"/>"
      ],
      "text/plain": [
       "<IPython.core.display.Image object>"
      ]
     },
     "metadata": {},
     "output_type": "display_data"
    },
    {
     "name": "stdout",
     "output_type": "stream",
     "text": [
      "The Client\n"
     ]
    },
    {
     "data": {
      "text/html": [
       "<img src=\"http://images.amazon.com/images/P/0439064872.01.MZZZZZZZ.jpg\"/>"
      ],
      "text/plain": [
       "<IPython.core.display.Image object>"
      ]
     },
     "metadata": {},
     "output_type": "display_data"
    },
    {
     "name": "stdout",
     "output_type": "stream",
     "text": [
      "Harry Potter and the Chamber of Secrets (Book 2)\n"
     ]
    },
    {
     "data": {
      "text/html": [
       "<img src=\"http://images.amazon.com/images/P/0312924585.01.MZZZZZZZ.jpg\"/>"
      ],
      "text/plain": [
       "<IPython.core.display.Image object>"
      ]
     },
     "metadata": {},
     "output_type": "display_data"
    },
    {
     "name": "stdout",
     "output_type": "stream",
     "text": [
      "Silence of the Lambs\n"
     ]
    },
    {
     "data": {
      "text/html": [
       "<img src=\"http://images.amazon.com/images/P/0440220602.01.MZZZZZZZ.jpg\"/>"
      ],
      "text/plain": [
       "<IPython.core.display.Image object>"
      ]
     },
     "metadata": {},
     "output_type": "display_data"
    },
    {
     "name": "stdout",
     "output_type": "stream",
     "text": [
      "The Chamber\n"
     ]
    },
    {
     "data": {
      "text/html": [
       "<img src=\"http://images.amazon.com/images/P/044022165X.01.MZZZZZZZ.jpg\"/>"
      ],
      "text/plain": [
       "<IPython.core.display.Image object>"
      ]
     },
     "metadata": {},
     "output_type": "display_data"
    },
    {
     "name": "stdout",
     "output_type": "stream",
     "text": [
      "The Rainmaker\n"
     ]
    },
    {
     "data": {
      "text/html": [
       "<img src=\"http://images.amazon.com/images/P/0380710218.01.MZZZZZZZ.jpg\"/>"
      ],
      "text/plain": [
       "<IPython.core.display.Image object>"
      ]
     },
     "metadata": {},
     "output_type": "display_data"
    },
    {
     "name": "stdout",
     "output_type": "stream",
     "text": [
      "Postmortem\n"
     ]
    },
    {
     "data": {
      "text/html": [
       "<img src=\"http://images.amazon.com/images/P/0439136369.01.MZZZZZZZ.jpg\"/>"
      ],
      "text/plain": [
       "<IPython.core.display.Image object>"
      ]
     },
     "metadata": {},
     "output_type": "display_data"
    },
    {
     "name": "stdout",
     "output_type": "stream",
     "text": [
      "Harry Potter and the Prisoner of Azkaban (Book 3)\n"
     ]
    },
    {
     "data": {
      "text/html": [
       "<img src=\"http://images.amazon.com/images/P/0440221471.01.MZZZZZZZ.jpg\"/>"
      ],
      "text/plain": [
       "<IPython.core.display.Image object>"
      ]
     },
     "metadata": {},
     "output_type": "display_data"
    },
    {
     "name": "stdout",
     "output_type": "stream",
     "text": [
      "The Runaway Jury\n"
     ]
    },
    {
     "data": {
      "text/html": [
       "<img src=\"http://images.amazon.com/images/P/0439139600.01.MZZZZZZZ.jpg\"/>"
      ],
      "text/plain": [
       "<IPython.core.display.Image object>"
      ]
     },
     "metadata": {},
     "output_type": "display_data"
    },
    {
     "name": "stdout",
     "output_type": "stream",
     "text": [
      "Harry Potter and the Goblet of Fire (Book 4)\n"
     ]
    },
    {
     "data": {
      "text/html": [
       "<img src=\"http://images.amazon.com/images/P/034540288X.01.MZZZZZZZ.jpg\"/>"
      ],
      "text/plain": [
       "<IPython.core.display.Image object>"
      ]
     },
     "metadata": {},
     "output_type": "display_data"
    },
    {
     "name": "stdout",
     "output_type": "stream",
     "text": [
      "The Lost World\n"
     ]
    }
   ],
   "source": [
    "d = {\n",
    "    \"059035342X\": 9,\n",
    "    \"0345370775\": 10,\n",
    "    \"044021145X\": 8,\n",
    "    \"0440214041\": 10,\n",
    "    \"0440211727\": 7,\n",
    "}\n",
    "\n",
    "for i in d:\n",
    "    display(Image(url=books[books[\"ISBN\"] == i][\"imageURLM\"].values[0]))\n",
    "    print(books[books[\"ISBN\"] == i][\"bookTitle\"].values[0])\n",
    "\n",
    "print(\"-------------------------------------------\")\n",
    "l = get_recommendations(d)\n",
    "\n",
    "for i in l:\n",
    "    display(Image(url=books[books[\"ISBN\"] == i][\"imageURLM\"].values[0]))\n",
    "    print(books[books[\"ISBN\"] == i][\"bookTitle\"].values[0])"
   ]
  },
  {
   "cell_type": "code",
   "execution_count": 39,
   "id": "4b27fef7",
   "metadata": {},
   "outputs": [],
   "source": [
    "# making a text file in which write the names of 600 books that we have used\n",
    "\n",
    "f = open(\"books.txt\", \"w\")\n",
    "for i in top_600:\n",
    "    name = books[books[\"ISBN\"] == i][\"bookTitle\"].values[0]\n",
    "    f.write(name+\" \"+i)\n",
    "    f.write(\"\\n\")\n",
    "f.close()"
   ]
  },
  {
   "cell_type": "code",
   "execution_count": 41,
   "id": "de06540f",
   "metadata": {},
   "outputs": [],
   "source": [
    "with open('books.txt', 'r') as f:\n",
    "    data = f.read()"
   ]
  },
  {
   "cell_type": "code",
   "execution_count": 43,
   "id": "65dd820a",
   "metadata": {},
   "outputs": [
    {
     "data": {
      "text/plain": [
       "'E Is for Evidence: A Kinsey Millhone Mystery (Kinsey Millhone Mysteries (Paperback)) 0553279556\\nAngels 0060008032\\nWhile I Was Gone 0345443284\\nScarlet Feather 0451203771\\nBehind the Scenes at the Museum 0552996181\\nG Is for Gumshoe (Kinsey Millhone Mysteries (Paperback)) 0449219364\\nThe Reader 0375707972\\nDaddy\\'s Little Girl 0743206045\\nIrish Hearts 0373484003\\nThe Princess Diaries 0380814021\\nA Case of Need 0451183665\\nThe Lovely Bones 0316168815\\nMemoirs of a Geisha Uk 0099771519\\nBlackberry Wine 0552998001\\nA Prayer for Owen Meany 0345361792\\nInto the Wild 0385486804\\nCharlotte\\'s Web (Trophy Newbery) 0064400557\\nHearts In Atlantis 0671024248\\nFull House (Janet Evanovich\\'s Full Series) 0312983271\\nBody of Evidence (Kay Scarpetta Mysteries (Paperback)) 0380717018\\nThe Poisonwood Bible: A Novel 0060930535\\nHere on Earth 0425167313\\nWhat Looks Like Crazy On An Ordinary Day 038079487X\\nThe Perks of Being a Wallflower 0671027344\\nVoyager 0440217563\\nThe Rule of Four 0385337116\\nTo the Nines: A Stephanie Plum Novel 0312265867\\nDreamcatcher 0743211383\\nThe Killing Game: Only One Can Win...and the Loser Dies 0553581554\\nFast Women 0312980159\\nTheir Eyes Were Watching God 0060931418\\nSaving Faith 0446608890\\nThe Drawing of the Three (The Dark Tower, Book 2) 0451163524\\nAbout a Boy 1573227331\\nThe Stone Monkey (Lincoln Rhyme Novels (Paperback)) 0743437802\\nA Widow for One Year 0345424719\\nMoonlight Becomes You 0671867113\\nFlesh and Blood 0679459626\\nAnne of Green Gables (Anne of Green Gables Novels (Paperback)) 055321313X\\nHeartbreaker 0671034006\\nCatch Me If You Can: The True Story of a Real Fake 0767905385\\nDrowning Ruth (Oprah\\'s Book Club) 0345439104\\nDesperation 0670868361\\nThe Pillars of the Earth 0451166892\\nOne Flew Over the Cuckoo\\'s Nest 0451163966\\nOpen House (Oprah\\'s Book Club (Paperback)) 0345435168\\nThe No. 1 Ladies\\' Detective Agency 1400031346\\nGalapagos 0440127793\\nGo Ask Alice 0689817851\\nRedwall (Redwall, Book 1) 0441005489\\nFive Quarters of the Orange 0060958022\\nThe God of Small Things 0060977493\\nAll Around the Town 0671793489\\nThe Voice of the Night 0425128164\\nDrums of Autumn 044022425X\\nSpeak 014131088X\\nThe Temple of My Familiar 0671683993\\nDark Paradise 0553561618\\nThe Virgin Blue 0452284449\\nK Is for Killer (Kinsey Millhone Mysteries (Paperback)) 0449221504\\nL Is for Lawless 0449221490\\nReviving Ophelia: Saving the Selves of Adolescent Girls (Ballantine Reader\\'s Circle) 0345392825\\nThe Future Homemakers of America 0446679364\\nUnnatural Exposure 0425163407\\nThe Phantom Tollbooth 0394820371\\nMilkrun 0373250126\\nFortune\\'s Rocks : A Novel 0316678104\\nThe Tao of Pooh 0140067477\\nWhat to Expect When You\\'re Expecting (Revised Edition) 089480829X\\nM Is for Malice 0449223604\\nBefore I Say Good-Bye : A Novel 0684835983\\nDrowning Ruth 0385502532\\nOne Door Away from Heaven 0553801376\\nNights in Rodanthe 0446531332\\nNight Sins 055356451X\\nTales of the City (Tales of the City Series, V. 1) 0060964049\\nShopaholic Ties the Knot 0385336179\\nCry Wolf 055356160X\\nOne for the Money (Stephanie Plum Novels (Paperback)) 0061009059\\nTears of the Giraffe (No.1 Ladies Detective Agency) 1400031354\\nBridget Jones\\'s Diary 0670880728\\nSea Glass: A Novel 0316089699\\nThe Door to December 0451181379\\nI Know This Much Is True 0060987561\\nChosen Prey 0425182878\\nThe Bachelor (Warner Books Contemporary Romance) 0446610542\\nThe Dead Zone 0451155750\\nDiary of a Mad Bride (Summer Display Opportunity) 0385335830\\nThe Pilot\\'s Wife : A Novel Tag: Author of the Weight of Water (Oprah\\'s Book Club (Hardcover)) 0316789089\\nEverything\\'s Eventual : 14 Dark Tales 0743457358\\nHow to Be Good 1573229326\\nBalzac and the Little Chinese Seamstress 037541309X\\nThe Wasp Factory 0349101779\\nBlack and Blue 0440226104\\nReunion in Death 0425183971\\nSiddhartha 0553208845\\nThe Client 038542471X\\nLucky 0684857820\\nAnne Frank: The Diary of a Young Girl 0553296981\\nTis : A Memoir 0684848783\\nThe Other Boleyn Girl 0743227441\\nThe Little Prince 0156528207\\nBridget Jones : The Edge of Reason 0670892963\\nCujo 0451161351\\nDead Sleep 0451206525\\nBlack House 0375504397\\nThe Notebook 0446520802\\nStory of O 0345301110\\nThe Rapture of Canaan 0425162443\\nD Is for Deadbeat (Kinsey Millhone Mysteries (Paperback)) 0553271636\\nIsland of the Blue Dolphins (Laurel Leaf Books) 0440940001\\nFrom Potter\\'s Field 0425154092\\nBee Season: A Novel 0385498802\\nNeedful Things: The Last Castle Rock Story 0670839531\\nThe Red Tent (Bestselling Backlist) 0312195516\\nDreamcatcher 0743467523\\nThe Stand (The Complete and Uncut Edition) 0385199570\\nManhattan Hunt Club 0449006522\\nThe Girl Who Loved Tom Gordon 0671042858\\nThe Plains of Passage (Earth\\'s Children (Paperback)) 0553289411\\nA Thin Dark Line (Mysteries &amp; Horror) 0553571885\\nLucky : A Memoir 0316096199\\nNeuromancer (Remembering Tomorrow) 0441569595\\nThe House of the Spirits 0553273914\\nSummer Pleasures 0373218397\\nSeven Habits Of Highly Effective People 0671708635\\nAngela\\'s Ashes (MMP) : A Memoir 0684872153\\nThe Surgeon 0345447840\\nEmpire Falls 0679432477\\nHeart of the Sea (Irish Trilogy) 0515128554\\nThe Five People You Meet in Heaven 0786868716\\nThe King of Torts 0385508042\\nPortrait of a Killer: Jack the Ripper -- Case Closed 0399149325\\nThe Testament 0099245027\\nGeneration X: Tales for an Accelerated Culture 031205436X\\nPurity in Death 042518630X\\nMystic River 0380731851\\nThe Color of Water: A Black Man\\'s Tribute to His White Mother 1573225789\\nThe Book of Questions 0894803204\\nThe Darwin Awards: Evolution in Action 0452283442\\nArtemis Fowl (Artemis Fowl, Book 1) 0786817070\\nDaughter of Fortune : A Novel (Oprah\\'s Book Club (Hardcover)) 006019491X\\nSleepers 0345404114\\nB Is for Burglar (Kinsey Millhone Mysteries (Paperback)) 0553280341\\nHearts in Atlantis 0743436210\\nWhere the Red Fern Grows 0553274295\\nThe Summons 0440241073\\nFalse Memory 0553580221\\nThe Shipping News : A Novel 0743225406\\nTender at the Bone: Growing Up at the Table 0767903382\\nBasket Case 044661193X\\nI\\'m a Stranger Here Myself: Notes on Returning to America After 20 Years Away 076790382X\\nANGELA\\'S ASHES 0684874350\\nTribulation Force: The Continuing Drama of Those Left Behind (Left Behind No. 2) 0842329218\\nDaughter of Fortune: A Novel 038082101X\\nCradle and All 0446609404\\nTime And Again 0373484410\\nSuzanne\\'s Diary for Nicholas 0446679593\\nThe Murder Book 0345413903\\nVinegar Hill (Oprah\\'s Book Club (Paperback)) 0380730138\\n4 Blondes 0451203895\\nA Walk to Remember 0446608955\\nA Bend in the Road 0446527785\\nThe Celestine Prophecy (Celestine Prophecy) 044651862X\\nEats, Shoots &amp; Leaves: The Zero Tolerance Approach to Punctuation 1592400876\\nAtlas Shrugged 0451191145\\nLasher: Lives of the Mayfair Witches (Lives of the Mayfair Witches) 0345397819\\nLife of Pi 0156027321\\nThe Sum of All Fears (Jack Ryan Novels) 0425133540\\nThe Hobbit: or There and Back Again 0618002219\\nIcebound 0345384350\\nDaddy\\'s Little Girl 0743460529\\nPostmortem (Kay Scarpetta Mysteries (Paperback)) 0671023616\\nOdd Thomas 0553802496\\nMen Are from Mars, Women Are from Venus: A Practical Guide for Improving Communication and Getting What You Want in Your Relationships 006016848X\\nLeft Behind: A Novel of the Earth\\'s Last Days (Left Behind No. 1) 0842329129\\nThe Girls\\' Guide to Hunting and Fishing 0140293248\\nThe Forgotten (Peter Decker &amp; Rina Lazarus Novels (Paperback)) 0380730847\\nBefore I Say Good-Bye 0671004573\\nSpace 0449203794\\nMiddlesex: A Novel 0374199698\\nThe Eyes of the Dragon 0451166582\\nThe Chamber 0385424728\\nBy the Light of the Moon 0553582763\\nBleachers 0385511612\\nA Map of the World 0385720106\\nSee How They Run 0446603929\\nSuzanne\\'s Diary for Nicholas 0316969443\\nThe Scarlet Letter 0553210092\\nFlowers for Algernon (Bantam Classic) 0553274503\\nTheir Eyes Were Watching God: A Novel 0060916508\\nThe Bean Trees 0060915544\\nHard Time (V.I. Warshawski Novels (Paperback)) 0440224705\\nThe Da Vinci Code 0385504209\\nHornet\\'s Nest 042516098X\\nThe Kitchen God\\'s Wife 080410753X\\nMidnight Voices 0449006530\\nOn the Street Where You Live 0671004530\\nFrom a Buick 8 : A Novel 0743211375\\nMe Talk Pretty One Day 0316776963\\nThe Bridges of Madison County 044651652X\\nLove in the Time of Cholera (Penguin Great Books of the 20th Century) 0140119906\\nThe Testament 0440234743\\nFahrenheit 451 0345342968\\nProdigal Summer 0060199652\\nEyes of the Dragon 0451151259\\nChicken Soup for the Teenage Soul (Chicken Soup for the Soul) 1558744630\\nThe Smoke Jumper 0385334036\\nBridge to Terabithia 0064401847\\nThousand Acres 0804115761\\nSlaughterhouse Five or the Children\\'s Crusade: A Duty Dance With Death 0440180295\\nJewels of the Sun (Irish Trilogy) 0515126772\\nSouthern Cross 0425172546\\nCat and Mouse 0316693294\\nAll That Remains (Kay Scarpetta Mysteries (Paperback)) 0380718332\\nCall of the Wild 1559029838\\nPrey: A Novel 0066214122\\nThe Honk and Holler Opening Soon 0446675059\\nSummer Sisters 0440226430\\nThe Amazing Adventures of Kavalier &amp; Clay 0312282990\\nSecret History 0804111359\\nThe World According to Garp 034536676X\\nThe Winner 0446606324\\nThe Bad Place 0425124347\\nWhen the Wind Blows 0446607657\\nA Year in Provence 0679731148\\nFalling Angels 0452283205\\nOpen Season 0671027581\\nPatty Jane\\'s House of Curl (Ballantine Reader\\'s Circle) 0449911004\\nThe Perfect Storm : A True Story of Men Against the Sea 006101351X\\nThe Thorn Birds 0380018179\\nRussendisko. 3442541751\\nThe Hours: A Novel 0312305060\\nThe Eye of the World (The Wheel of Time, Book 1) 0812511816\\nKey of Light (Key Trilogy (Paperback)) 051513628X\\nThe English Patient 0679745203\\nA Wizard of Earthsea (Earthsea Trilogy, Book 1) 0553262505\\nThe Summons 0385503822\\nDeath du Jour 0671011375\\nKiss the Girls 0446601241\\nLike Water for Chocolate: A Novel in Monthly Installments With Recipes, Romances and Home Remedies 0385474016\\nWhere the Heart Is (Oprah\\'s Book Club (Paperback)) 0446672211\\nSHIPPING NEWS 0671510053\\nHarry Potter and the Sorcerer\\'s Stone (Harry Potter (Paperback)) 059035342X\\nThe Partner 0440224764\\nDragonfly in Amber 0440215625\\nIshmael: An Adventure of the Mind and Spirit 0553375407\\nCat &amp; Mouse (Alex Cross Novels) 0446606189\\nBlow Fly: A Scarpetta Novel 0399150897\\nThe Subtle Knife (His Dark Materials, Book 2) 0345413369\\nThe Eyre Affair (Alex Awards (Awards)) 0670030643\\nThe Bluest Eye 0452282195\\nLeft Behind: A Novel of the Earth\\'s Last Days (Left Behind #1) 0842342702\\nBridget Jones\\'s Diary 0330375253\\nWizard and Glass (The Dark Tower, Book 4) 0452279178\\nSticks &amp; Scones 0553578316\\nSurvivor : A Novel 0385498721\\nGriffin &amp; Sabine: An Extraordinary Correspondence 0877017883\\nVisions of Sugar Plums 0312306326\\nNeedful Things 0451172817\\nBeach Music 0553574574\\nFull Tilt (Janet Evanovich\\'s Full Series) 031298328X\\nRainbow Six 0425170349\\nPrey 0061015725\\nFlowers In The Attic (Dollanganger) 0671729411\\nA Tree Grows in Brooklyn 006092988X\\nBAG OF BONES : A NOVEL 0684853507\\nLord of the Flies 0399501487\\nJack &amp; Jill (Alex Cross Novels) 0446604801\\nThe Poisonwood Bible 0060512822\\nThe Simple Truth 0446607711\\nNine Stories 0316769509\\nTell No One 0440236703\\nA Girl Named Zippy: Growing Up Small in Mooreland Indiana (Today Show Book Club #3) 0767915054\\nWizard\\'s First Rule (Sword of Truth, Book 1) 0812548051\\nAnimal Dreams 0060921145\\nSeabiscuit 0345465083\\nRiptide 0515130966\\nI Is for Innocent 0449221512\\nWish You Well 0446527165\\nThe Accidental Tourist 0425092917\\nThe Liar\\'s Club: A Memoir 0140179836\\nWe Were the Mulvaneys 0452282829\\nCold Mountain : A Novel 0375700757\\nThe Crimson Petal and the White 015100692X\\nBookends : A Novel 0767907817\\nQ Is for Quarry 0399149155\\nThe Curious Incident of the Dog in the Night-Time : A Novel 0385509456\\nLittle Altars Everywhere: A Novel 0060976845\\nSeize the Night 0553580191\\nHard Eight : A Stephanie Plum Novel (A Stephanie Plum Novel) 0312265859\\nThe Brethren 0440236673\\nIt Was on Fire When I Lay Down on It 0804105820\\nZen and the Art of Motorcycle Maintenance: An Inquiry into Values 0553277472\\nThe Horse Whisperer 0440222656\\nFind Me 0446530077\\nA Painted House 038550120X\\nBastard Out of Carolina 0452269571\\nRoses Are Red 0316693251\\nJewel (Oprah\\'s Book Club) 0671042572\\nHarry Potter and the Prisoner of Azkaban (Book 3) 0439136350\\nFORREST GUMP (Movie Tie in) 0671894455\\nA Wrinkle In Time 0440498058\\nMessage in a Bottle 0446523569\\nGuns, Germs, and Steel: The Fates of Human Societies 0393317552\\nThe Deep End of the Ocean (Oprah\\'s Book Club (Hardcover)) 0670865796\\nThe Rainmaker 0385424736\\nThe Switch 0446527033\\nThe Street Lawyer 0440225701\\nLonesome Dove 067168390X\\nThe Blue Nowhere : A Novel 0671042262\\nFall On Your Knees (Oprah #45) 0743237188\\nMr. Maybe 0767905202\\nI Don\\'t Know How She Does It: The Life of Kate Reddy, Working Mother 0375414053\\nThe Stand: Complete and Uncut 0451169530\\nBack When We Were Grownups : A Novel (Ballantine Reader\\'s Circle) 0345446860\\nThe Dogs of Babel (Today Show Book Club #12) 0316168688\\nAngela\\'s Ashes: A Memoir 068484267X\\nThe Virgin Suicides 0446670251\\nOpen House 0375506039\\nThe Bear and the Dragon (Jack Ryan Novels) 0425180964\\nA Walk to Remember 0446525537\\nBack Roads 0670894184\\nA Bend in the Road 0446611867\\nThe House on Mango Street (Vintage Contemporaries) 0679734775\\nA Virtuous Woman (Oprah\\'s Book Club (Paperback)) 0375703063\\nBlessings 0375502238\\nEverything\\'s Eventual : 14 Dark Tales 0743235150\\n2nd Chance 0446612790\\nThe Thief Lord 0439404371\\nThe Handmaid\\'s Tale 0449212602\\nBel Canto: A Novel 0060934417\\nThe Professor and the Madman 0060175966\\nThe Magician\\'s Nephew (rack) (Narnia) 0064471101\\nThe Shelters of Stone (Earth\\'s Children Series, No 5) 0609610597\\nThe Lovely Bones: A Novel 0316666343\\nHearts In Atlantis : New Fiction 0684853515\\nThe Jester 0316602051\\nQuentins 0525946829\\nSkinwalkers (Joe Leaphorn/Jim Chee Novels) 0061000175\\nThe Death of Vishnu: A Novel 006000438X\\nThe Divine Secrets of the Ya-Ya Sisterhood: A Novel 0060502258\\nEnvy 0446611808\\nA Kiss of Shadows (Meredith Gentry Novels (Paperback)) 0345423402\\nFour Blind Mice 0446613266\\nAlias Grace : A Novel 0385490445\\nWe\\'ll Meet Again 0671004565\\nThe Claiming of Sleeping Beauty (Erotic Adventures of Sleeping Beauty) 0452266564\\nWhite Oleander : A Novel 0316182540\\nNotes from a Small Island 0380727501\\nThe Face of Deception 0553578022\\nHorse Whisperer 0552143774\\nYear of Wonders 0142001430\\nAll I Need to Know I Learned from My Cat 0894808249\\nThe Vagina Monologues: The V-Day Edition 0375756981\\nGuilty Pleasures (Anita Blake Vampire Hunter (Paperback)) 0441304834\\nBeach House 1551668998\\nDying for Chocolate (Culinary Mysteries (Paperback)) 0553560247\\nThe Queen of the Damned (Vampire Chronicles (Paperback)) 0345351525\\nFatal Voyage 0671028375\\nThe Celestine Prophecy 0446671002\\nAll I Really Need to Know 080410526X\\nThe Pilot\\'s Wife 0316788228\\nThe Door to December 0451205421\\nCatch 22 0684833395\\nThe Devil Wears Prada : A Novel 038550926X\\nPope Joan (Ballantine Reader\\'s Circle) 0345416260\\nSilence of the Lambs 0312924585\\nKitchen 0671880187\\nNightmares &amp; Dreamscapes 0451180232\\nIsland of the Blue Dolphins 0440439884\\nBarrel Fever : Stories and Essays (Barrel Fever) 0316779423\\nSKINNY LEGS AND ALL 0553289691\\nOnce upon a More Enlightened Time: More Politically Correct Bedtime Stories 0028604199\\nThe Four Agreements: A Practical Guide to Personal Freedom 1878424319\\nOne Hundred Years of Solitude 0060929790\\nIcy Sparks 0142000205\\nSex &amp; the City 0446673544\\nDon\\'t Sweat the Small Stuff and It\\'s All Small Stuff : Simple Ways to Keep the Little Things from Taking Over Your Life (Don\\'t Sweat the Small Stuff Series) 0786881852\\nThe Andromeda Strain 0345378482\\nMiddlesex: A Novel 0312422156\\nAtonement : A Novel 038572179X\\nBreathing Lessons 042511774X\\nJ Is for Judgment 0449221482\\nThe Vampire Lestat (Vampire Chronicles, Book II) 0345313860\\nHouse of Sand and Fog 0375727345\\nHarry Potter and the Sorcerer\\'s Stone (Book 1) 0590353403\\nOne Thousand White Women : The Journals of May Dodd: A Novel 0312199430\\nHannibal 0440224675\\nPostmortem 0380710218\\nThe Purpose-Driven Life: What on Earth Am I Here For? 0310205719\\nInto Thin Air : A Personal Account of the Mount Everest Disaster 0679457526\\nThe Nanny Diaries: A Novel 0312291639\\nThe Lion, the Witch, and the Wardrobe (The Chronicles of Narnia, Book 2) 0064471047\\nRemember Me 0671867091\\nEaters of the Dead 0345354613\\nPop Goes the Weasel 0316693286\\nThe Street Lawyer 0385490992\\nThe Reader 0679442790\\nWicca: A Guide for the Solitary Practitioner 0875421180\\nTotal Control 0446604844\\nJennifer Government : A Novel 0385507593\\nCharming Billy 038533334X\\nContact 0671004107\\nSuzanne\\'s Diary for Nicholas 0446611085\\nThe Return Journey 0440224594\\nGirl, Interrupted 0679746048\\nOutlander 0440212561\\nRose Madder 0451186362\\nChocolat 014100018X\\nViolets Are Blue 0446611212\\nDust to Dust 0553582526\\nThe Eyes of Darkness 0425153975\\nThe Vineyard 0671036505\\nP Is for Peril 0449003795\\nDeadly Decisions 0671028367\\nForever... : A Novel of Good and Evil, Love and Hope 067101420X\\nPatriot Games (Jack Ryan Novels) 0425109720\\nIllusions: The Adventures of a Reluctant Messiah 0440204887\\nThe Bonfire of the Vanities 0553275976\\nGeek Love 0446391301\\nScarlett : The Sequel to Margaret Mitchell\\'s \\\\Gone With the Wind\\\\\"\" 0446363251\\nPretend You Don\\'t See Her 0671867156\\nThe Devil in the White City : Murder, Magic, and Madness at the Fair That Changed America (Illinois) 0609608444\\nLike Water for Chocolate : A Novel in Monthly Installments with Recipes, Romances, and Home Remedies 038542017X\\nMonster : A Novel (Alex Delaware Novels (Paperback)) 0345413873\\nWelcome to the World, Baby Girl! 080411868X\\nHigh Fidelity 1573225517\\nOf Mice and Men (Penguin Great Books of the 20th Century) 0140177396\\nThe Stranger 0679720200\\nSphere 0345353145\\nHeaven and Earth (Three Sisters Island Trilogy) 0515132020\\nPlainsong (Vintage Contemporaries) 0375705856\\nFaking It 0312983824\\nThe Cider House Rules 0345387651\\nWatchers 0425107469\\nHarry Potter and the Goblet of Fire (Book 4) 0439139597\\nSkipping Christmas 0385508417\\nFour Past Midnight 0451170385\\nThe Perfect Husband 0553576801\\nThe Boy Next Door 0060096195\\nShock 042518286X\\nJemima J: A Novel About Ugly Ducklings and Swans 0767905180\\nAngus, Thongs and Full-Frontal Snogging: Confessions of Georgia Nicolson 0064472272\\nThe Survivors Club 0553584510\\nHarry Potter and the Chamber of Secrets (Book 2) 0439064864\\nChicken Soup for the Woman\\'s Soul (Chicken Soup for the Soul Series (Paper)) 1558744150\\nKey of Knowledge (Key Trilogy (Paperback)) 0515136379\\nHarry Potter and the Chamber of Secrets (Book 2) 0439064872\\nFried Green Tomatoes at the Whistle Stop Cafe 0070212570\\nTis: A Memoir 0684865742\\nA Fine Balance 140003065X\\nPlain Truth 0671776134\\nBalzac and the Little Chinese Seamstress : A Novel 0385722206\\nIn Her Shoes : A Novel 0743418204\\nFROM POTTER\\'S FIELD 0684195984\\nThe Curious Incident of the Dog in the Night-Time (Vintage Contemporaries) 1400032717\\nChristy 0380001411\\nThings Fall Apart : A Novel 0385474547\\nInterpreter of Maladies 039592720X\\nBridget Jones\\'s Diary 0330332775\\nStill Waters 0553292722\\nWhat to Expect the First Year 0894805770\\nA Game of Thrones (A Song of Ice and Fire, Book 1) 0553573403\\nThe Horse Whisperer 0385315236\\nNo Second  Chance 0525947299\\nIsle of Dogs 0425182908\\nThe Sparrow 0449912558\\nThat Camden Summer 051511992X\\nSnow Crash 0553562614\\nThe Blind Assassin 0385475721\\nThe Bourne Identity 0553260111\\nSchindler\\'s List 0671880314\\nNicolae: The Rise of Antichrist (Left Behind No. 3) 0842329242\\nBig Stone Gap 0345459202\\nWild Animus 0971880107\\nThe Dark Half 0451167317\\nConfessions of an Ugly Stepsister : A Novel 0060987529\\nA Lesson Before Dying (Vintage Contemporaries (Paperback)) 0375702709\\nCoast Road: A Novel 0671027662\\nSabine\\'s Notebook: In Which the Extraordinary Correspondence of Griffin &amp; Sabine Continues 0811801802\\nThe Next Accident 0553578693\\nDivine Secrets of the Ya-Ya Sisterhood: A Novel 0060928336\\nBeloved (Plume Contemporary Fiction) 0452264464\\nOne True Thing 044022103X\\nSimple Abundance:  A Daybook of Comfort and Joy 0446519138\\nSong of Solomon (Oprah\\'s Book Club (Paperback)) 0452260116\\nA Short Guide to a Happy Life 0375504613\\nThe Green Mile: The Mouse on the Mile (Green Mile Series) 0451190521\\nStupid White Men ...and Other Sorry Excuses for the State of the Nation! 0060392452\\nThe Rescue 0446610399\\nThe Chamber 0440220602\\nHarry Potter and the Prisoner of Azkaban (Book 3) 0439136369\\nCoraline 0380977788\\nGerald\\'s Game 0451176464\\nAt Home in Mitford (The Mitford Years) 014025448X\\nAirframe 0345402871\\nA Wrinkle in Time 0440998050\\nShopgirl : A Novella 0786866586\\nThe Lost World 034540288X\\nThe Lost Continent: Travels in Small-Town America 0060920084\\nStanislaski Brothers (Silhouette Promo) 0373484224\\nGap Creek: The Story Of A Marriage 0743203631\\nHigh Five (A Stephanie Plum Novel) 0312971346\\nCause of Death 0425158616\\nThe Prayer of Jabez: Breaking Through to the Blessed Life 1576737330\\nRich Dad, Poor Dad: What the Rich Teach Their Kids About Money--That the Poor and Middle Class Do Not! 0446677450\\nSleep No More 0451208765\\nShe\\'s Come Undone (Oprah\\'s Book Club (Paperback)) 0671003755\\nStargirl 037582233X\\nIlluminati. 3404148665\\nThe Two Towers (The Lord of the Rings, Part 2) 0345339711\\nLoves Music, Loves to Dance 0671758896\\nSTONES FROM THE RIVER 068484477X\\nBridget Jones: The Edge of Reason 0140298479\\nThe Empty Chair 0671026011\\nThe Corrections (Oprah Edition) 0374100128\\nThe Color Purple 0671617028\\nI Know This Much Is True (Oprah\\'s Book Club) 0060391626\\nDolores Claiborne 0670844527\\nSummer Sisters 0385324057\\nThe Cardinal of the Kremlin (Jack Ryan Novels) 0425116840\\nConfessions of a Shopaholic 0440241413\\nA Time to Kill 0440211727\\nThe Last Juror 0385510438\\nN Is for Noose 0449223612\\nSecret History : A Novel 0449911519\\nThe General\\'s Daughter 0446364800\\nJonathan Livingston Seagull 0380012863\\nF Is for Fugitive (Kinsey Millhone Mysteries (Paperback)) 0553284789\\nEinstein\\'s Dreams 0446670111\\nPay It Forward 0743412028\\nThe Clan of the Cave Bear (Earth\\'s Children (Paperback)) 0553250426\\nThe Lottery Winner : Alvirah And Willy Stories 0671867172\\nTuesdays with Morrie: An Old Man, a Young Man, and Life\\'s Greatest Lesson 076790592X\\nThe Summerhouse 0671014196\\nThe Bean Trees 0061097314\\nSongs in Ordinary Time (Oprah\\'s Book Club (Paperback)) 0140244824\\nWhat Dreams May Come : A Novel 0812570944\\nThe Return of the King (The Lord of the Rings, Part 3) 0345339738\\nA Painted House 044023722X\\nThe Color Purple 0671727796\\nSoul Harvest: The World Takes Sides (Left Behind No. 4) 0842329250\\nPoint of Origin 0425169863\\nShe\\'s Come Undone (Oprah\\'s Book Club) 0671021001\\nThe Joy Luck Club 0804106304\\nThe Color of Magic 0061020710\\nShopaholic Takes Manhattan (Summer Display Opportunity) 0385335881\\nThe Samurai\\'s Garden : A Novel 0312144075\\nRules of Prey 0425121631\\nThe Stone Diaries 014023313X\\nPlum Island 0446605409\\nBig Trouble 0425178102\\nApollyon: The Destroyer Is Unleashed (Left Behind No. 5) 0842329269\\nBridget Jones\\'s Diary 0141000198\\nThe Devil\\'s Teardrop 0671038443\\nWho Moved My Cheese? An Amazing Way to Deal with Change in Your Work and in Your Life 0399144463\\nThe Brethren 0385497466\\nThree Junes 0385721420\\nThe Hunt for Red October 0425083837\\nI\\'ll Be Seeing You 0671888587\\nHot Six : A Stephanie Plum Novel (A Stephanie Plum Novel) 0312976275\\nThe Bridge Across Forever 0440108268\\nBrave New World 0060929871\\nThe Sisterhood of the Traveling Pants 0385729332\\nEngaging The Enemy 0373218192\\nROAD LESS TRAVELED : A New Psychology of Love, Traditional Values, and Spritual Growth (Touchstone Books (Paperback)) 0671250671\\nToxin 0425166619\\nThe Outsiders 0440967694\\nThe Remains of the Day (Vintage International) 0679731725\\nFrom the Corner of His Eye 0553582747\\nThe No. 1 Ladies\\' Detective Agency (Today Show Book Club #8) 1400034779\\nBlack Notice 0399145087\\nDigital Fortress : A Thriller 0312995423\\nThe Time Traveler\\'s Wife (Today Show Book Club #15) 1931561648\\nSeabiscuit: An American Legend 0449005615\\nWhite Teeth: A Novel 0375703861\\nMiss Julia Speaks Her Mind : A Novel 0688177751\\nHow the Garcia Girls Lost Their Accents (Plume Contemporary Fiction) 0452268060\\nThe Villa 0515132187\\nSnow Falling on Cedars 067976402X\\nThe Corrections 0374129983\\nBack Roads 0451202341\\nWinter Solstice 0312244266\\nBlack Notice 0425175405\\nThe Golden Compass (His Dark Materials, Book 1) 0345413350\\nAbout a Boy (Movie Tie-In) 1573229571\\nDivine Secrets of the Ya-Ya Sisterhood : A Novel 0060173289\\nThe Deep End of the Ocean 0451197747\\nEyes of Prey 0425132048\\nGirl in Hyacinth Blue 014029628X\\nInto Thin Air : A Personal Account of the Mt. Everest Disaster 0385492081\\nThe Laughing Corpse (Anita Blake Vampire Hunter (Paperback)) 0441000916\\nThe Hours : A Novel 0312243022\\nRiver, Cross My Heart 0316899984\\nThe Professor and the Madman: A Tale of Murder, Insanity, and the Making of The Oxford English Dictionary 006099486X\\nThe Last Precinct 0399146253\\nWish You Well 0446610100\\nA Widow for One Year 034543479X\\nGap Creek: A Novel 1565122968\\nDune (Remembering Tomorrow) 0441172717\\nA Light in the Window (The Mitford Years) 0140254544\\nRed Dragon 0440206154\\nInsomnia 0451184963\\nMr. Perfect 0671027573\\nAnne of Avonlea (Anne of Green Gables Novels (Paperback)) 0553213148\\nThe Idiot Girls\\' Action Adventure Club 0375760911\\nIt 0451169514\\nJurassic Park 0345370775\\nWicked: The Life and Times of the Wicked Witch of the West 0060987103\\nThe Runaway Jury 0440221471\\nDude, Where\\'s My Country? 0446532231\\nMÃ?Â¶rder ohne Gesicht. 3423202327\\nHere on Earth (Oprah\\'s Book Club) 0425169693\\nThe Sweet Potato Queens\\' Book of Love 0609804138\\nBreath, Eyes, Memory 037570504X\\nMortal Prey 0399148639\\nThe Angel of Darkness 0345427637\\nThe Testament 0385493800\\nThe Fellowship of the Ring (The Lord of the Rings, Part 1) 0345339703\\nOryx and Crake 0385503857\\nThe Heart of a Woman 0553380095\\nMidwives: A Novel 0375706771\\nThe Tale of the Body Thief (Vampire Chronicles (Paperback)) 034538475X\\nA Darkness More Than Night 0446667900\\nThe Mulberry Tree 0743437640\\nOne Door Away from Heaven 0553582755\\nThe Search 0553582127\\nSkipping Christmas 0385505833\\nMisery 0451153553\\nFull Speed (Janet Evanovich\\'s Full Series) 0312983298\\nSlow Waltz in Cedar Bend 0446516538\\nThe Princess Bride: S Morgenstern\\'s Classic Tale of True Love and High Adventure 0345348036\\nThe Pact: A Love Story 0688170528\\nLightning 0425115801\\nOn the Street Where You Live : A Novel 0743206029\\nGuilty as Sin 0553564528\\nRed Rabbit 0425191184\\nAmerican Gods 0380789035\\nTwo for the Dough 0671001795\\nEleventh Hour: An FBI Thriller (FBI Thriller (Jove Paperback)) 0515135739\\nGone for Good 0440236738\\nBack When We Were Grownups: A Novel 0375412530\\nHolidays on Ice : Stories 0316779237\\nPop Goes the Weasel 0446608815\\nElla Minnow Pea: A Novel in Letters 0385722435\\nFinal Target 0553582135\\nCradle and All 0316690619\\nBel Canto 0060188731\\nLamb : The Gospel According to Biff, Christ\\'s Childhood Pal 0380813815\\nOn the Road 0140042598\\nTo Kill a Mockingbird 0446310786\\nA Separate Peace 0553280414\\nMidnight in the Garden of Good and Evil 0679751521\\nA Is for Alibi (Kinsey Millhone Mysteries (Paperback)) 0553279912\\nThe Orchid Thief (Ballantine Reader\\'s Circle) 044900371X\\nPossession : A Romance 0679735909\\nPortrait of a Killer: Jack the Ripper-- Case Closed (Berkley True Crime) 0425192733\\nWhite Oleander : A Novel 0316569321\\nFace the Fire (Three Sisters Island Trilogy) 051513287X\\nThe Fourth Hand 0345449347\\nEden Close 0156005891\\nMidnight in the Garden of Good and Evil: A Savannah Story 0679429220\\nMe Talk Pretty One Day 0316777722\\nThe Big Bad Wolf: A Novel 0316602906\\n\\\\O\\\\\" Is for Outlaw\" 0805059555\\nGalileo\\'s Daughter: A Historical Memoir of Science, Faith, and Love 0140280553\\nBlindness (Harvest Book) 0156007754\\nValhalla Rising (Dirk Pitt Adventures (Paperback)) 0425185710\\nSkeleton Crew 0451142934\\nCircle of Friends 0440211263\\nThe Loop 0440224624\\nMontana Sky 0515120618\\nHouse of Leaves 0375703764\\nFast Food Nation: The Dark Side of the All-American Meal 0060938455\\nMemnoch the Devil (Vampire Chronicles, No 5) 0345409671\\nAhab\\'s Wife: Or, The Star-Gazer: A Novel 0688177859\\nDaisy Fay and the Miracle Man 0446394521\\nThe Pelican Brief 0440214041\\nQuentins 0451209907\\nAtonement: A Novel 0385503954\\nThe Reef 051512608X\\nUnder the Tuscan Sun 0767900383\\nHow to Be Good 1573221937\\nThe Bone Collector (Lincoln Rhyme Novels (Paperback)) 0451188454\\nDisclosure 0345391055\\nBag of Bones 067102423X\\nThe Diary of Ellen Rimbauer: My Life at Rose Red 0786890436\\nThe Rescue 0446525502\\nThe Runaway Jury 0385472943\\nThe Secret Life of Bees 0142001740\\nThe Woman Next Door 0743411250\\nDarwin\\'s Radio 0345435249\\nLost Light 0446611638\\nEast of Eden (Oprah\\'s Book Club) 0142004235\\nDolores Claiborne 0451177096\\nPeace Like a River 0802139256\\nCongo 0345378490\\nWifey 0671693816\\nPay It Forward: A Novel 0684862719\\nMama Makes Up Her Mind: And Other Dangers of Southern Living 0679751602\\nThe Bonesetter\\'s Daughter 0399146431\\nAngels &amp; Demons 0743486226\\nThe Dilbert Principle: A Cubicle\\'S-Eye View of Bosses, Meetings, Management Fads &amp; Other Workplace Afflictions 0887307876\\nWord Freak: Heartbreak, Triumph, Genius, and Obsession in the World of Competitive Scrabble Players 0142002267\\nRed Storm Rising 042510107X\\nLies and the Lying Liars Who Tell Them: A Fair and Balanced Look at the Right 0525947647\\nA Walk in the Woods: Rediscovering America on the Appalachian Trail (Official Guides to the Appalachian Trail) 0767902521\\nThe Secret Life of Bees 0670894605\\nThe Burden of Proof 0446360589\\nThe Bonesetter\\'s Daughter 0804114986\\nThe Rainmaker 044022165X\\nLike Water for Chocolate: A Novel in Monthly Installments, With Recipes, Romances, and Home Remedies 0385420161\\nA Thousand Acres (Ballantine Reader\\'s Circle) 0449907481\\nThe Bell Jar : A Novel (Perennial Classics) 0060930187\\nAngelas Ashes 000649840X\\nThe Dive From Clausen\\'s Pier (Alex Awards) 0375412824\\nInvasion 0425155404\\nThe Weight of Water : A Novel Tag: Author of Resistance and Strange Fits of Passion 0316780375\\nSaint Maybe 0804108749\\nTimeline 0679444815\\nA Thief of Time (Joe Leaphorn/Jim Chee Novels) 0061000043\\nOne for the Money (A Stephanie Plum Novel) 0312990456\\nThe Giver (21st Century Reference) 0440219078\\nGood Omens 0441003257\\nWaiting (Vintage International) 0375706410\\nTable For Two 0373218400\\nNotes From a Small Planet 0552996009\\nThe Emperor of Ocean Park (Today Show Book Club #1) 0375413634\\nHard Eight : A Stephanie Plum Novel (A Stephanie Plum Novel) 0312983867\\nChoke 0385720920\\nLolita (Vintage International) 0679723161\\n1st to Die: A Novel 0316666009\\nStranger in a Strange Land (Remembering Tomorrow) 0441790348\\nAmerican Psycho (Vintage Contemporaries) 0679735771\\nMemoirs of a Geisha 0375400117\\nWrit of Execution 0440236053\\nPhantoms 0425181103\\nPride and Prejudice 0553213105\\n3rd Degree 0316603570\\nReversible Errors: A Novel 0374281602\\nThe Mammoth Hunters (Earth\\'s Children (Paperback)) 0553280945\\nTimeline 0345417623\\nThe Bad Beginning (A Series of Unfortunate Events, Book 1) 0064407667\\n1st to Die: A Novel 0446610038\\nPigs in Heaven 0060922532\\nA Beautiful Mind: The Life of Mathematical Genius and Nobel Laureate John Nash 0743224574\\nMorality for Beautiful Girls (No.1 Ladies Detective Agency) 1400031362\\nThe Glass Lake 0440221595\\nThe Wedding 0446532452\\nThe Lord of the Rings (Movie Art Cover) 0618129022\\nJackdaws 0451207521\\nHow to Make an American Quilt 0345370805\\nThe Nanny Diaries: A Novel 0312278586\\nLullaby: A Novel 0385722192\\nEasy Prey 0425178765\\nFour Blind Mice 0316693006\\nThinner 0451137965\\nThe Cat in the Hat 039480001X\\nThe Dress Lodger (Ballantine Reader\\'s Circle) 0345436911\\nLife of Pi 0151008116\\nTears of the Moon (Irish Trilogy) 0515128546\\nThe Sum of All Fears 0425184226\\nDeja Dead 0671011367\\nTuesdays with Morrie: An Old Man, a Young Man, and Life\\'s Greatest Lesson 0385484518\\nAbsolute Power 0446603589\\nFoucault\\'s Pendulum 0345368754\\nLast Chance Saloon 0380820293\\nAirframe 0679446486\\nPerfume: The Story of a Murderer (Vintage International) 0375725849\\nThe Green Mile: Coffey\\'s Hands (Green Mile Series) 0451190548\\nPride and Prejudice (The Penguin English Library, El 72) 0140430725\\nTruly, Madly Manhattan 0373218036\\nNeverwhere 0380789019\\nThe Lost Boy: A Foster Child\\'s Search for the Love of a Family 1558745157\\nThe Handmaid\\'s Tale : A Novel 038549081X\\nThe Curious Incident of the Dog in the Night-Time (Today Show Book Club #13) 0385512104\\nLast Man Standing 0446611778\\nThe Outsiders (Now in Speak!) 014038572X\\nCity of Bones 0316154059\\nGirl With a Pearl Earring 052594527X\\nOn the Road (Penguin 20th Century Classics) 0140185216\\nStalker: A Peter Decker and Rina Lazarus Novel 0380817691\\nVisions of Sugar Plums: A Stephanie Plum Holiday Novel 0312986343\\nSisterhood of the Traveling Pants 0385730586\\nMessage in a Bottle 0446606812\\nRiver\\'s End 0515127833\\nThe Eyre Affair: A Novel 0142001805\\nThe Body Farm 0425147622\\nPortrait in Death 0425189031\\nSacred Sins 0553265741\\nDreamcatcher 074343627X\\nTaltos: Lives of the Mayfair Witches 0345404319\\nThe Girl Who Loved Tom Gordon : A Novel 0684867621\\nThe Last Time They Met : A Novel 0316781142\\nThe Girls\\' Guide to Hunting and Fishing 067088300X\\nThe Copper Beech 0440213290\\nFear and Loathing in Las Vegas : A Savage Journey to the Heart of the American Dream 0679785892\\nThe Pilot\\'s Wife : A Novel 0316601950\\nFlesh and Blood 034541389X\\nOn Writing 0684853523\\nClear and Present Danger (Jack Ryan Novels) 0425122123\\nHoles (Yearling Newbery) 0440414806\\n\\\\O\\\\\" Is for Outlaw\" 0449003787\\nBig Cherry Holler: A Big Stone Gap Novel (Ballantine Reader\\'s Circle) 0345445848\\nHarry Potter and the Order of the Phoenix (Book 5) 043935806X\\nThe Regulators 0525941908\\nGap Creek: The Story of a Marriage 074322535X\\nThe Godfather 0451167716\\nWhisper of Evil (Hooper, Kay. Evil Trilogy.) 0553583468\\nDaughter of Fortune 0060932759\\nHideaway 042513525X\\nThe Saving Graces: A Novel 0061097101\\nSword of Shannara 0345314255\\nThe Beach House 0446612545\\nNow You See Me 0312979096\\nBlue Diary 0399148027\\nCouplehood 0553573136\\nLet Me Call You Sweetheart 0671568175\\nHigh Fidelity 1573228214\\nCold Mountain 0871136791\\nA Confederacy of Dunces (Evergreen Book) 0802130208\\nNickel and Dimed: On (Not) Getting By in America 0805063889\\nThe Great Gatsby 0684801523\\nLucky Man: A Memoir 0786867647\\nCode to Zero 0451204530\\nUnder the Banner of Heaven : A Story of Violent Faith 0385509510\\nHemlock Bay 0515133302\\nSick Puppy 0446604666\\nAnimal Farm 0451526341\\nMisery 0451169522\\nConfessions of a Shopaholic (Summer Display Opportunity) 0385335482\\nCruel &amp; Unusual (Kay Scarpetta Mysteries (Paperback)) 0380718340\\nThe Beach House 0316969680\\nFrom a Buick 8 0743417682\\nThe Crimson Petal and the White 0156028778\\nTara Road 0440235596\\nThe Partner 0385472951\\nDr. Death (Alex Delaware Novels (Paperback)) 0345413881\\nWatership Down 0380002930\\nThe Mistress of Spices 0385482388\\nStupid White Men. Eine Abrechnung mit dem Amerika unter George W. Bush 3492045170\\nDeception Point 0671027387\\nThe Lake House 0316603287\\nThe Lost World: A Novel 0679419462\\nCane River 0446530522\\nCertain Prey 0425174271\\nMr. Murder 0425144429\\nRunning with Scissors: A Memoir 031242227X\\nGirl with a Pearl Earring 0452282152\\nAtlantis Found 0425177173\\nWhite Oleander : A Novel (Oprah\\'s Book Club) 0316284955\\nDance upon the Air (Three Sisters Island Trilogy) 0515131229\\nThe Fellowship of the Ring (The Lord of the Rings, Part 1) 0618002227\\nAll the Pretty Horses (The Border Trilogy, Vol 1) 0679744398\\nC Is for Corpse (Kinsey Millhone Mysteries (Paperback)) 0553280368\\nThe Blind Assassin 0385720955\\nThe Last Precinct 0425180638\\nBlack Friday 0446609323\\nDebt of Honor (Jack Ryan Novels) 0425147584\\nKey of Valor (Roberts, Nora. Key Trilogy, 3.) 0515136530\\nA Heartbreaking Work of Staggering Genius 0375725784\\nAshes to Ashes 0553579606\\nSea Swept (Quinn Brothers (Paperback)) 0515121843\\nNight 0553272535\\n2nd Chance 0316693200\\nThe Mummy or Ramses the Damned 0345369947\\nChicken Soup for the Pet Lover\\'s Soul (Chicken Soup for the Soul) 1558745718\\nThe King of Torts 0440241537\\nFortune\\'s Rocks: A Novel 0316781010\\nDesperation 0451188462\\nHide &amp; Seek 0446603716\\nShipping News 1857022424\\nSister of My Heart 038548951X\\nFour Blondes 080213825X\\nH Is for Homicide (Kinsey Millhone Mysteries (Paperback)) 0449219461\\nThe Fourth Hand 0375506276\\nInterview with the Vampire 0345337662\\nThe Tommyknockers 0451156609\\nCarolina Moon 0515130389\\nWithout Remorse 0425143325\\nBlack House 0345441036\\nThe Notebook 0446605239\\nThe Weight of Water 0316782505\\nThe Alienist 0553572997\\nShell Seekers 0440202043\\nPolitically Correct Bedtime Stories: Modern Tales for Our Life and Times 002542730X\\nHarry Potter and the Sorcerer\\'s Stone (Book 1) 043936213X\\nSophie\\'s World: A Novel About the History of Philosophy 0425152251\\nHarry Potter and the Goblet of Fire (Book 4) 0439139600\\nStarship Troopers 0441783589\\nThe Worst-Case Scenario Survival Handbook 0811825558\\nViolets Are Blue 0316693235\\nP Is for Peril (Kinsey Millhone Mysteries (Hardcover)) 0399147195\\nThe Sigma Protocol 0312982518\\nDer Vorleser 3257229534\\nProdigal Summer: A Novel 0060959037\\nFight Club 0805062971\\nThe Witching Hour (Lives of the Mayfair Witches) 0345384466\\nSeven Up (A Stephanie Plum Novel) 0312980140\\nWhy Girls Are Weird : A Novel 0743469801\\nThe Servants of Twilight 0425121259\\nEnder\\'s Game (Ender Wiggins Saga (Paperback)) 0812550706\\nThe Eight 0345366239\\nEchoes 0440122090\\nThe Fountainhead 0451191153\\nAlong Came a Spider (Alex Cross Novels) 0446364193\\nEllen Foster 0375703055\\nQ Is for Quarry 0425192725\\nBlood Work 0446602620\\nThe Gunslinger (The Dark Tower, Book 1) 0451160525\\nNickel and Dimed: On (Not) Getting By in America 0805063897\\nMidnight Bayou 0515133973\\nThree Fates 0515135062\\nThe Hitchhiker\\'s Guide to the Galaxy 0345391802\\nSeinlanguage 0553569155\\nJewel 0671038184\\nShopgirl 0786885688\\nYou Belong To Me 0671004549\\nA Patchwork Planet 080411918X\\nThe Talisman 0345444884\\nJane Eyre (Bantam Classics) 0553211404\\nFear Nothing 0553579754\\nGone with the Wind 0446365386\\nSeven Up (A Stephanie Plum Novel) 0312265840\\nNaked 0316777730\\nThe Valley of Horses 0553250531\\nThe Smoke Jumper 0440235162\\nMutant Message Down Under 0060926317\\nRestaurant At the End of the Universe 0330262130\\nAngels &amp; Demons 0671027360\\nReap the Wind 0553586122\\nAcceptable Risk 0425151867\\nThe Hot Zone 0385479565\\nNerd in Shining Armor 0440241162\\nUnspeakable 0446607193\\nA Man Named Dave: A Story of Triumph and Forgiveness 0452281903\\nThe Alchemist: A Fable About Following Your Dream 0062502182\\nFree 1844262553\\nLife\\'s Little Instruction Book (Life\\'s Little Instruction Books (Paperback)) 1558531025\\nThe Catcher in the Rye 0316769487\\nThe Mists of Avalon 0345350499\\nThe Firm 044021145X\\nThe Devil\\'s Code 0425179885\\nA Civil Action 0679772677\\nRound Ireland With a Fridge 0312274920\\nRising Sun 0345380371\\nThe Ugly Duckling 0553569910\\nBridget Jones\\'s Diary 014028009X\\nGood in Bed 0743418174\\nRebecca 0380778556\\nBig Stone Gap: A Novel (Ballantine Reader\\'s Circle) 0345438329\\nThe Hobbit : The Enchanting Prelude to The Lord of the Rings 0345339681\\nEmpire Falls 0375726403\\nThe Last Time They Met : A Novel 0316781266\\nThe Cider House Rules 0553258001\\nCorelli\\'s Mandolin : A Novel 067976397X\\nMan and Boy: A Novel 0743225082\\nThe Client 0440213525\\nThe Dive From Clausen\\'s Pier : A Novel (Vintage Contemporaries (Paperback)) 0375727132\\nBlack and Blue : A Novel 0375500510\\nSeptember 0312924801\\nA Child Called \\\\It\\\\\": One Child\\'s Courage to Survive\" 1558743669\\nFeast of All Saints 0345334531\\nThe Green Mile 0671041789\\nNorthern Lights (His Dark Materials S.) 0590660543\\nPandora: New Tales of the Vampires (New Tales of the Vampires) 0345422384\\nThe Book of Ruth (Oprah\\'s Book Club (Paperback)) 0385265700\\nChicken Soup for the Soul (Chicken Soup for the Soul) 155874262X\\nThe Corrections: A Novel 0312421273\\nPoint of Origin 0399143947\\nThree To Get Deadly : A Stephanie Plum Novel (A Stephanie Plum Novel) 0312966091\\nThe Secret Life of Bees 0670032379\\nEvening Class 0440223202\\nBeloved 0452280621\\nThe Poisonwood Bible 0060175400\\nBody of Lies 0553582143\\nThe Things They Carried 0767902890\\nStanding in the Rainbow 080411935X\\nThe Lion\\'s Game 0446608262\\nThe Prince of Tides 0553268880\\nL Is for Lawless (Kinsey Millhone Mysteries) 0805019375\\nRoses Are Red (Alex Cross Novels) 0446605484\\nWinter Moon 0345386108\\nThe Grapes of Wrath: John Steinbeck Centennial Edition (1902-2002) 0142000663\\n1984 0451524934\\nIntensity 0345384369\\nThe Hundred Secret Senses 080411109X\\nIt\\'s Not About the Bike: My Journey Back to Life 0425179613\\nI Know Why the Caged Bird Sings 0553279378\\nChocolat 0552998486\\nFour To Score (A Stephanie Plum Novel) 0312966970\\nHannibal 038529929X\\nI Capture the Castle 0312201656\\nPresumed Innocent 0446359866\\nDigital Fortress : A Thriller 0312263120\\nThe Killer Angels 0345348109\\nThe Two Dead Girls (Green Mile Series) 0451190491\\nThe Reptile Room (A Series of Unfortunate Events, Book 2) 0064407675\\nMrs Dalloway 0156628708\\n'"
      ]
     },
     "execution_count": 43,
     "metadata": {},
     "output_type": "execute_result"
    }
   ],
   "source": [
    "data"
   ]
  },
  {
   "cell_type": "markdown",
   "id": "3673c4b6",
   "metadata": {},
   "source": [
    "demo on a real user"
   ]
  },
  {
   "cell_type": "code",
   "execution_count": 46,
   "id": "27d767dd",
   "metadata": {},
   "outputs": [
    {
     "data": {
      "text/html": [
       "<img src=\"http://images.amazon.com/images/P/0439139597.01.MZZZZZZZ.jpg\"/>"
      ],
      "text/plain": [
       "<IPython.core.display.Image object>"
      ]
     },
     "metadata": {},
     "output_type": "display_data"
    },
    {
     "name": "stdout",
     "output_type": "stream",
     "text": [
      "Harry Potter and the Goblet of Fire (Book 4)\n"
     ]
    },
    {
     "data": {
      "text/html": [
       "<img src=\"http://images.amazon.com/images/P/0345391802.01.MZZZZZZZ.jpg\"/>"
      ],
      "text/plain": [
       "<IPython.core.display.Image object>"
      ]
     },
     "metadata": {},
     "output_type": "display_data"
    },
    {
     "name": "stdout",
     "output_type": "stream",
     "text": [
      "The Hitchhiker's Guide to the Galaxy\n"
     ]
    },
    {
     "data": {
      "text/html": [
       "<img src=\"http://images.amazon.com/images/P/0590353403.01.MZZZZZZZ.jpg\"/>"
      ],
      "text/plain": [
       "<IPython.core.display.Image object>"
      ]
     },
     "metadata": {},
     "output_type": "display_data"
    },
    {
     "name": "stdout",
     "output_type": "stream",
     "text": [
      "Harry Potter and the Sorcerer's Stone (Book 1)\n"
     ]
    },
    {
     "data": {
      "text/html": [
       "<img src=\"http://images.amazon.com/images/P/0439064864.01.MZZZZZZZ.jpg\"/>"
      ],
      "text/plain": [
       "<IPython.core.display.Image object>"
      ]
     },
     "metadata": {},
     "output_type": "display_data"
    },
    {
     "name": "stdout",
     "output_type": "stream",
     "text": [
      "Harry Potter and the Chamber of Secrets (Book 2)\n"
     ]
    },
    {
     "data": {
      "text/html": [
       "<img src=\"http://images.amazon.com/images/P/0316769487.01.MZZZZZZZ.jpg\"/>"
      ],
      "text/plain": [
       "<IPython.core.display.Image object>"
      ]
     },
     "metadata": {},
     "output_type": "display_data"
    },
    {
     "name": "stdout",
     "output_type": "stream",
     "text": [
      "The Catcher in the Rye\n"
     ]
    },
    {
     "data": {
      "text/html": [
       "<img src=\"http://images.amazon.com/images/P/0439136350.01.MZZZZZZZ.jpg\"/>"
      ],
      "text/plain": [
       "<IPython.core.display.Image object>"
      ]
     },
     "metadata": {},
     "output_type": "display_data"
    },
    {
     "name": "stdout",
     "output_type": "stream",
     "text": [
      "Harry Potter and the Prisoner of Azkaban (Book 3)\n"
     ]
    },
    {
     "data": {
      "text/html": [
       "<img src=\"http://images.amazon.com/images/P/059035342X.01.MZZZZZZZ.jpg\"/>"
      ],
      "text/plain": [
       "<IPython.core.display.Image object>"
      ]
     },
     "metadata": {},
     "output_type": "display_data"
    },
    {
     "name": "stdout",
     "output_type": "stream",
     "text": [
      "Harry Potter and the Sorcerer's Stone (Harry Potter (Paperback))\n"
     ]
    },
    {
     "data": {
      "text/html": [
       "<img src=\"http://images.amazon.com/images/P/0684801523.01.MZZZZZZZ.jpg\"/>"
      ],
      "text/plain": [
       "<IPython.core.display.Image object>"
      ]
     },
     "metadata": {},
     "output_type": "display_data"
    },
    {
     "name": "stdout",
     "output_type": "stream",
     "text": [
      "The Great Gatsby\n"
     ]
    },
    {
     "data": {
      "text/html": [
       "<img src=\"http://images.amazon.com/images/P/0439136369.01.MZZZZZZZ.jpg\"/>"
      ],
      "text/plain": [
       "<IPython.core.display.Image object>"
      ]
     },
     "metadata": {},
     "output_type": "display_data"
    },
    {
     "name": "stdout",
     "output_type": "stream",
     "text": [
      "Harry Potter and the Prisoner of Azkaban (Book 3)\n"
     ]
    },
    {
     "data": {
      "text/html": [
       "<img src=\"http://images.amazon.com/images/P/043935806X.01.MZZZZZZZ.jpg\"/>"
      ],
      "text/plain": [
       "<IPython.core.display.Image object>"
      ]
     },
     "metadata": {},
     "output_type": "display_data"
    },
    {
     "name": "stdout",
     "output_type": "stream",
     "text": [
      "Harry Potter and the Order of the Phoenix (Book 5)\n"
     ]
    },
    {
     "data": {
      "text/html": [
       "<img src=\"http://images.amazon.com/images/P/0439064872.01.MZZZZZZZ.jpg\"/>"
      ],
      "text/plain": [
       "<IPython.core.display.Image object>"
      ]
     },
     "metadata": {},
     "output_type": "display_data"
    },
    {
     "name": "stdout",
     "output_type": "stream",
     "text": [
      "Harry Potter and the Chamber of Secrets (Book 2)\n"
     ]
    },
    {
     "data": {
      "text/html": [
       "<img src=\"http://images.amazon.com/images/P/0804111359.01.MZZZZZZZ.jpg\"/>"
      ],
      "text/plain": [
       "<IPython.core.display.Image object>"
      ]
     },
     "metadata": {},
     "output_type": "display_data"
    },
    {
     "name": "stdout",
     "output_type": "stream",
     "text": [
      "Secret History\n"
     ]
    },
    {
     "data": {
      "text/html": [
       "<img src=\"http://images.amazon.com/images/P/0451526341.01.MZZZZZZZ.jpg\"/>"
      ],
      "text/plain": [
       "<IPython.core.display.Image object>"
      ]
     },
     "metadata": {},
     "output_type": "display_data"
    },
    {
     "name": "stdout",
     "output_type": "stream",
     "text": [
      "Animal Farm\n"
     ]
    },
    {
     "data": {
      "text/html": [
       "<img src=\"http://images.amazon.com/images/P/0156628708.01.MZZZZZZZ.jpg\"/>"
      ],
      "text/plain": [
       "<IPython.core.display.Image object>"
      ]
     },
     "metadata": {},
     "output_type": "display_data"
    },
    {
     "name": "stdout",
     "output_type": "stream",
     "text": [
      "Mrs Dalloway\n"
     ]
    },
    {
     "data": {
      "text/html": [
       "<img src=\"http://images.amazon.com/images/P/0451524934.01.MZZZZZZZ.jpg\"/>"
      ],
      "text/plain": [
       "<IPython.core.display.Image object>"
      ]
     },
     "metadata": {},
     "output_type": "display_data"
    },
    {
     "name": "stdout",
     "output_type": "stream",
     "text": [
      "1984\n"
     ]
    }
   ],
   "source": [
    "\n",
    "# ratings by (my dear friend)\n",
    "\n",
    "d = {\n",
    "    \"0439139597\": 7,\n",
    "    \"0345391802\": 8,\n",
    "    \"0590353403\": 6,\n",
    "    \"0439064864\": 3,\n",
    "    \"0316769487\": 8,\n",
    "    \"0439136350\": 5,\n",
    "    \"059035342X\": 8,\n",
    "    \"0684801523\": 10,\n",
    "    \"0439136369\": 5,\n",
    "    \"043935806X\": 4,\n",
    "    \"0439064872\": 3,\n",
    "    \"0804111359\": 9,\n",
    "    \"0451526341\": 9,\n",
    "    \"0156628708\": 9,\n",
    "    \"0451524934\": 7\n",
    "}\n",
    "\n",
    "for i in d:\n",
    "    display(Image(url=books[books[\"ISBN\"] == i][\"imageURLM\"].values[0]))\n",
    "    print(books[books[\"ISBN\"] == i][\"bookTitle\"].values[0])"
   ]
  },
  {
   "cell_type": "code",
   "execution_count": 47,
   "id": "de219ca1",
   "metadata": {},
   "outputs": [
    {
     "data": {
      "text/html": [
       "<img src=\"http://images.amazon.com/images/P/0451524934.01.MZZZZZZZ.jpg\"/>"
      ],
      "text/plain": [
       "<IPython.core.display.Image object>"
      ]
     },
     "execution_count": 47,
     "metadata": {},
     "output_type": "execute_result"
    }
   ],
   "source": [
    "Image(url=books[books[\"ISBN\"] == i][\"imageURLM\"].values[0])"
   ]
  },
  {
   "cell_type": "code",
   "execution_count": 48,
   "id": "23358f2c",
   "metadata": {},
   "outputs": [
    {
     "name": "stderr",
     "output_type": "stream",
     "text": [
      "C:\\Users\\siddh\\AppData\\Local\\Temp\\ipykernel_15368\\624209120.py:7: FutureWarning: The behavior of array concatenation with empty entries is deprecated. In a future version, this will no longer exclude empty items when determining the result dtype. To retain the old behavior, exclude the empty entries before the concat operation.\n",
      "  recommendations = pd.concat([recommendations, similar_scores])\n"
     ]
    },
    {
     "data": {
      "text/html": [
       "<img src=\"http://images.amazon.com/images/P/0399501487.01.MZZZZZZZ.jpg\"/>"
      ],
      "text/plain": [
       "<IPython.core.display.Image object>"
      ]
     },
     "metadata": {},
     "output_type": "display_data"
    },
    {
     "name": "stdout",
     "output_type": "stream",
     "text": [
      "Lord of the Flies\n"
     ]
    },
    {
     "data": {
      "text/html": [
       "<img src=\"http://images.amazon.com/images/P/0446310786.01.MZZZZZZZ.jpg\"/>"
      ],
      "text/plain": [
       "<IPython.core.display.Image object>"
      ]
     },
     "metadata": {},
     "output_type": "display_data"
    },
    {
     "name": "stdout",
     "output_type": "stream",
     "text": [
      "To Kill a Mockingbird\n"
     ]
    },
    {
     "data": {
      "text/html": [
       "<img src=\"http://images.amazon.com/images/P/0618002227.01.MZZZZZZZ.jpg\"/>"
      ],
      "text/plain": [
       "<IPython.core.display.Image object>"
      ]
     },
     "metadata": {},
     "output_type": "display_data"
    },
    {
     "name": "stdout",
     "output_type": "stream",
     "text": [
      "The Fellowship of the Ring (The Lord of the Rings, Part 1)\n"
     ]
    },
    {
     "data": {
      "text/html": [
       "<img src=\"http://images.amazon.com/images/P/0142000663.01.MZZZZZZZ.jpg\"/>"
      ],
      "text/plain": [
       "<IPython.core.display.Image object>"
      ]
     },
     "metadata": {},
     "output_type": "display_data"
    },
    {
     "name": "stdout",
     "output_type": "stream",
     "text": [
      "The Grapes of Wrath: John Steinbeck Centennial Edition (1902-2002)\n"
     ]
    },
    {
     "data": {
      "text/html": [
       "<img src=\"http://images.amazon.com/images/P/0451190521.01.MZZZZZZZ.jpg\"/>"
      ],
      "text/plain": [
       "<IPython.core.display.Image object>"
      ]
     },
     "metadata": {},
     "output_type": "display_data"
    },
    {
     "name": "stdout",
     "output_type": "stream",
     "text": [
      "The Green Mile: The Mouse on the Mile (Green Mile Series)\n"
     ]
    },
    {
     "data": {
      "text/html": [
       "<img src=\"http://images.amazon.com/images/P/034536676X.01.MZZZZZZZ.jpg\"/>"
      ],
      "text/plain": [
       "<IPython.core.display.Image object>"
      ]
     },
     "metadata": {},
     "output_type": "display_data"
    },
    {
     "name": "stdout",
     "output_type": "stream",
     "text": [
      "The World According to Garp\n"
     ]
    },
    {
     "data": {
      "text/html": [
       "<img src=\"http://images.amazon.com/images/P/014023313X.01.MZZZZZZZ.jpg\"/>"
      ],
      "text/plain": [
       "<IPython.core.display.Image object>"
      ]
     },
     "metadata": {},
     "output_type": "display_data"
    },
    {
     "name": "stdout",
     "output_type": "stream",
     "text": [
      "The Stone Diaries\n"
     ]
    },
    {
     "data": {
      "text/html": [
       "<img src=\"http://images.amazon.com/images/P/0142002267.01.MZZZZZZZ.jpg\"/>"
      ],
      "text/plain": [
       "<IPython.core.display.Image object>"
      ]
     },
     "metadata": {},
     "output_type": "display_data"
    },
    {
     "name": "stdout",
     "output_type": "stream",
     "text": [
      "Word Freak: Heartbreak, Triumph, Genius, and Obsession in the World of Competitive Scrabble Players\n"
     ]
    },
    {
     "data": {
      "text/html": [
       "<img src=\"http://images.amazon.com/images/P/055321313X.01.MZZZZZZZ.jpg\"/>"
      ],
      "text/plain": [
       "<IPython.core.display.Image object>"
      ]
     },
     "metadata": {},
     "output_type": "display_data"
    },
    {
     "name": "stdout",
     "output_type": "stream",
     "text": [
      "Anne of Green Gables (Anne of Green Gables Novels (Paperback))\n"
     ]
    },
    {
     "data": {
      "text/html": [
       "<img src=\"http://images.amazon.com/images/P/0684865742.01.MZZZZZZZ.jpg\"/>"
      ],
      "text/plain": [
       "<IPython.core.display.Image object>"
      ]
     },
     "metadata": {},
     "output_type": "display_data"
    },
    {
     "name": "stdout",
     "output_type": "stream",
     "text": [
      "Tis: A Memoir\n"
     ]
    }
   ],
   "source": [
    "l = get_recommendations(d)\n",
    "\n",
    "for i in l:\n",
    "    display(Image(url=books[books[\"ISBN\"] == i][\"imageURLM\"].values[0]))\n",
    "    print(books[books[\"ISBN\"] == i][\"bookTitle\"].values[0])\n",
    "\n",
    "# Samyak was satisfied with the recommendations"
   ]
  },
  {
   "cell_type": "code",
   "execution_count": 49,
   "id": "efafb5d8",
   "metadata": {},
   "outputs": [],
   "source": [
    "# make a pickle file in which we store the item_similarity_df\n",
    "\n",
    "import pickle\n",
    "\n",
    "pickle.dump(item_similarity_df, open(\"item_similarity_df.pkl\", \"wb\"))"
   ]
  },
  {
   "cell_type": "markdown",
   "id": "bb8ddd98",
   "metadata": {},
   "source": [
    "Content Based Recommendations\n",
    "Created a numpy array called main_matrix with dimensions (50000, 900) to represent ratings for each book across 900 unique genres.\n",
    "\n",
    "Populated main_matrix by assigning average ratings to the corresponding positions based on the book's genres.\n",
    "\n",
    "Defined the get_recommendations(s) function to generate book recommendations based on the user's genre preferences.\n",
    "\n",
    "Initialized a numpy array called like (shape: (900,)) with zeros to represent the user's genre preferences.\n",
    "\n",
    "Calculated recommendation scores by performing matrix multiplication between main_matrix and like.\n",
    "\n",
    "Sorted the recommendation scores and obtained the top 5 book recommendations based on the highest scores.\n",
    "\n",
    "Printed the titles of the top 5 recommended books from the original dataset."
   ]
  },
  {
   "cell_type": "code",
   "execution_count": 51,
   "id": "2bedf395",
   "metadata": {},
   "outputs": [
    {
     "name": "stderr",
     "output_type": "stream",
     "text": [
      "C:\\Users\\siddh\\AppData\\Local\\Temp\\ipykernel_15368\\1491645833.py:5: SettingWithCopyWarning: \n",
      "A value is trying to be set on a copy of a slice from a DataFrame.\n",
      "Try using .loc[row_indexer,col_indexer] = value instead\n",
      "\n",
      "See the caveats in the documentation: https://pandas.pydata.org/pandas-docs/stable/user_guide/indexing.html#returning-a-view-versus-a-copy\n",
      "  df[\"genres\"] = df[\"genres\"].apply(eval)\n"
     ]
    },
    {
     "name": "stdout",
     "output_type": "stream",
     "text": [
      "Act of Passion\n",
      "A Ride of Peril\n",
      "A Court of Thorns and Roses eSampler\n",
      "A Meet of Tribes\n",
      "The Morganville Vampires, #1-9\n"
     ]
    }
   ],
   "source": [
    "data = pd.read_csv(\"books_1.Best_Books_Ever.csv\")\n",
    "data\n",
    "l=[]\n",
    "df = data[[\"isbn\",\"genres\",\"rating\"]]\n",
    "df[\"genres\"] = df[\"genres\"].apply(eval)\n",
    "df[\"genres\"][0]\n",
    "s = set()\n",
    "for i in df[\"genres\"]:\n",
    "    for j in i:\n",
    "        s.add(j)\n",
    "with open(\"genres_order.txt\", \"w\", encoding=\"utf-8\") as f:\n",
    "    d = defaultdict(int)\n",
    "    j = 0\n",
    "\n",
    "    for i in s:\n",
    "        d[i] = j\n",
    "        f.write(i + \"\\n\")\n",
    "        j += 1\n",
    "    f.close()\n",
    "df\n",
    "main_matrix = np.zeros((52478, 982))\n",
    "for i in range(len(df)):\n",
    "    for j in df[\"genres\"][i]:\n",
    "        main_matrix[i][d[j]] = df[\"rating\"][i]\n",
    "def get_recommendations(s):\n",
    "    like = np.zeros((982,))\n",
    "    for i in s:\n",
    "        like[d[i]] = 1\n",
    "    \n",
    "    ans = np.dot(main_matrix, like)\n",
    "    \n",
    "    for i in range(len(ans)):\n",
    "        l.append((ans[i], i))\n",
    "    l.sort(reverse=True)\n",
    "\n",
    "    for i in l[:5]:\n",
    "        print(data.loc[i[1], \"title\"])\n",
    "    return l    \n",
    "\n",
    "get_recommendations([\"Fiction\", \"Romance\", \"Magic\",\"Vampires\",\"Action\"])\n",
    "with open('genre_matrix.pkl', 'wb') as file:\n",
    "    pickle.dump(main_matrix, file)\n",
    "with open(\"booktitle_chatbot.txt\",\"w\",encoding=\"utf-8\") as file:\n",
    "    for i in data[\"title\"]:\n",
    "        file.write(i + \"\\n\")\n",
    "        \n",
    "    "
   ]
  },
  {
   "cell_type": "code",
   "execution_count": 54,
   "id": "744dea81",
   "metadata": {},
   "outputs": [
    {
     "name": "stdout",
     "output_type": "stream",
     "text": [
      "https://i.gr-assets.com/images/S/compressed.photo.goodreads.com/books/1511148105l/36627208._SY475_.jpg\n",
      "https://i.gr-assets.com/images/S/compressed.photo.goodreads.com/books/1496170495l/35268661._SY475_.jpg\n",
      "https://i.gr-assets.com/images/S/compressed.photo.goodreads.com/books/1421578982l/23757205.jpg\n",
      "https://i.gr-assets.com/images/S/compressed.photo.goodreads.com/books/1493946355l/35065263._SY475_.jpg\n",
      "https://i.gr-assets.com/images/S/compressed.photo.goodreads.com/books/1344709473l/10786926.jpg\n"
     ]
    }
   ],
   "source": [
    "for i in l[:5]:\n",
    "        print(data.loc[i[1], \"coverImg\"])"
   ]
  },
  {
   "cell_type": "code",
   "execution_count": null,
   "id": "1b9cefca",
   "metadata": {},
   "outputs": [],
   "source": [
    "list_genere = [x for x in input().split(\",\")]\n",
    "rec_books=pd.read_csv(\"books_1.Best_Books_Ever.csv\")\n",
    "\n",
    "list_recomm = []\n",
    "\n",
    "get_recommendations(list_genere)\n",
    "with open('genre_matrix.pkl', 'wb') as file:\n",
    "    pickle.dump(main_matrix, file)\n",
    "with open(\"booktitle_chatbot.txt\",\"w\",encoding=\"utf-8\") as file:\n",
    "    for i in data[\"title\"]:\n",
    "        file.write(i + \"\\n\")\n",
    "        list_recomm.append(i)"
   ]
  },
  {
   "cell_type": "code",
   "execution_count": null,
   "id": "a6a2f2c2",
   "metadata": {},
   "outputs": [],
   "source": []
  },
  {
   "cell_type": "code",
   "execution_count": null,
   "id": "b15296ff",
   "metadata": {},
   "outputs": [],
   "source": [
    "list_recomm[0]"
   ]
  },
  {
   "cell_type": "code",
   "execution_count": null,
   "id": "09e96016",
   "metadata": {},
   "outputs": [],
   "source": [
    "rec_books=pd.read_csv(\"books_1.Best_Books_Ever.csv\")\n",
    "list_url=[]\n",
    "for i in list_recomm:\n",
    "    image_url = rec_books[rec_books[\"title\"] == i][\"coverImg\"].values[0]\n",
    "    list_url.append(image_url)\n",
    "    "
   ]
  },
  {
   "cell_type": "code",
   "execution_count": null,
   "id": "bbc793f6",
   "metadata": {},
   "outputs": [],
   "source": [
    "list_url"
   ]
  },
  {
   "cell_type": "code",
   "execution_count": null,
   "id": "18536768",
   "metadata": {},
   "outputs": [],
   "source": [
    "rec_books=pd.read_csv(\"books_1.Best_Books_Ever.csv\")\n",
    "image_url = rec_books[rec_books[\"title\"] == \"Harry Potter and the Goblet of Fire\"][\"coverImg\"].values[0]\n",
    "Image(image_url)"
   ]
  },
  {
   "cell_type": "code",
   "execution_count": null,
   "id": "0a6f8d0a",
   "metadata": {},
   "outputs": [],
   "source": [
    "image_url"
   ]
  },
  {
   "cell_type": "code",
   "execution_count": null,
   "id": "c76ce2a8",
   "metadata": {},
   "outputs": [],
   "source": []
  },
  {
   "cell_type": "code",
   "execution_count": null,
   "id": "471d0694-f308-43ad-a8b6-027d98fbae9e",
   "metadata": {},
   "outputs": [],
   "source": []
  },
  {
   "cell_type": "code",
   "execution_count": null,
   "id": "9429388c-b24f-4fab-9a16-aba536311c55",
   "metadata": {},
   "outputs": [],
   "source": []
  }
 ],
 "metadata": {
  "kernelspec": {
   "display_name": "Python 3 (ipykernel)",
   "language": "python",
   "name": "python3"
  },
  "language_info": {
   "codemirror_mode": {
    "name": "ipython",
    "version": 3
   },
   "file_extension": ".py",
   "mimetype": "text/x-python",
   "name": "python",
   "nbconvert_exporter": "python",
   "pygments_lexer": "ipython3",
   "version": "3.12.4"
  }
 },
 "nbformat": 4,
 "nbformat_minor": 5
}
